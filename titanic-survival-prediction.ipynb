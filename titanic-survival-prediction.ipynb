{
 "cells": [
  {
   "cell_type": "markdown",
   "id": "acc19a24",
   "metadata": {
    "papermill": {
     "duration": 0.066934,
     "end_time": "2023-11-02T06:38:35.742545",
     "exception": false,
     "start_time": "2023-11-02T06:38:35.675611",
     "status": "completed"
    },
    "tags": []
   },
   "source": [
    "# 1. Case Study\n",
    "\n",
    "## Data Set Problems \n",
    "Dataset \"Titanic\" menjelaskan data yang dapat digunakan untuk memprediksi penumpang Kapal Titanic yang selamat dari tragedi tenggelam. Dalam dataset, terdapat informasi umum dan rinci mengenai <b>usia (age), jenis kelamin (gender), kelas penumpang (passenger class), tarif penumpang (fare), dan lokasi kabin (cabin location)</b> untuk setiap penumpang kapal. Dalam notebook ini, akan dilakukan prediksi apakah penumpang selamat berdasarkan variabel/feature yang ada dengan model machine learning.  Digunakan train dataset untuk membangun model dan test dataset untuk mengevaluasi performance dari model yang dibangun.\n",
    "\n",
    "---\n",
    "\n",
    "## Tahap Pengerjaan\n",
    "**Dalam Notebook, akan filakukan:**\n",
    "*   Pre-processing data \n",
    "*   Eksplorasi data dengan beberapa data visualization\n",
    "*   Membangun model Machine Learning untuk memprediksi penumpang kapal\n",
    "*   Membentuk prediksi dalam format csv.\n",
    "\n",
    "**Beberapa model machine learning yang digunakan antara lain:** \n",
    "1. Logistic Regression\n",
    "2. K Neighbors Classifier\n",
    "3. Decision Tree\n",
    "4. Random Forest\n",
    "5. Gradient Boosting\n",
    "\n",
    "---\n",
    "\n",
    "## Detail Dataset\n",
    "\n",
    "Terdapat **12 variabel** dalam dataset:\n",
    "*   **4 kategorikal** variabel, (Survived, Pclass, Sex, Embarked)\n",
    "*   **4 kontinu** variabel, (Age, SibSp, Parch, Fare)\n",
    "*   **1** variabel mengenai ID penumpang, (PassengerID)\n",
    "*   **1** variabel mengenai nama penumpang, (Name)\n",
    "*   **1** variabel mengenai nomor tiket penumpang, (Ticket)\n",
    "*   **1** variabel berupa nomor kabin penumpang. (Cabin)\n",
    "\n",
    "<br>\n",
    "\n",
    "Berikut merupakan struktur dari variabel yang ada:\n",
    "\n",
    "\n",
    "<table style=\"width:100%\">\n",
    "<thead>\n",
    "<tr>\n",
    "<th style=\"text-align:center; font-weight: bold; font-size:14px\">Variable Name</th>\n",
    "<th style=\"text-align:center; font-weight: bold; font-size:14px\">Description</th>\n",
    "<th style=\"text-align:center; font-weight: bold; font-size:14px\">Sample Data</th>\n",
    "</tr>\n",
    "</thead>\n",
    "<tbody>\n",
    "<tr>\n",
    "<td><b>PassengerId</b></td>\n",
    "<td>ID of passenger <br> (unique ID)</td>\n",
    "<td>1; 2; ...</td>\n",
    "</tr>\n",
    "<tr>\n",
    "<td><b>Survived</b></td>\n",
    "<td>Survival status <br> (0 = No, 1 = Yes)</td>\n",
    "<td>0; 1; ...</td>\n",
    "</tr>\n",
    "<tr>\n",
    "<td><b>Pclass</b></td>\n",
    "<td>Ticket class <br> (1 = 1st/Upper, 2 = 2nd/Middle, 3 = 3rd/Lower)</td>\n",
    "<td>1; 3; ...</td>\n",
    "</tr>\n",
    "<tr>\n",
    "<td><b>Name</b></td>\n",
    "<td>Passenger name <br> (unique)</td>\n",
    "<td>Braund, Mr. Owen Harris; Heikkinen, Miss. Laina; ...</td>\n",
    "</tr>\n",
    "<tr>\n",
    "<td><b>Sex</b></td>\n",
    "<td>Passenger gender <br> (male or female)</td>\n",
    "<td>male; female; ...</td>\n",
    "</tr>\n",
    "<tr>\n",
    "<td><b>Age</b></td>\n",
    "<td>Passenger age <br> (in years)</td>\n",
    "<td>22; 38; ...</td>\n",
    "</tr>\n",
    "<tr>\n",
    "<td><b>SibSp</b></td>\n",
    "<td>No of siblings / spouses aboard the Titanic</td>\n",
    "<td>0; 3; ...</td>\n",
    "</tr>\n",
    "<tr>\n",
    "<td><b>Parch</b></td>\n",
    "<td># of parents / children aboard the Titanic</td>\n",
    "<td>1; 2; ...</td>\n",
    "</tr>\n",
    "<tr>\n",
    "<td><b>Ticket</b></td>\n",
    "<td>Ticket number<br> (unique)</td>\n",
    "<td>A/5 21171; PC 17599; ...</td>\n",
    "</tr>\n",
    "<tr>\n",
    "<td><b>Fare</b></td>\n",
    "<td>Passenger fare</td>\n",
    "<td>7.25; 71.2833; ...</td>\n",
    "</tr>\n",
    "<tr>\n",
    "<td><b>Cabin</b></td>\n",
    "<td>Cabin number</td>\n",
    "<td>C85; C123; ...</td>\n",
    "</tr>\n",
    "<tr>\n",
    "<td><b>Embarked</b></td>\n",
    "<td>Embarkation port<br> (C = Cherbourg, Q = Queenstown, S = Southampton)</td>\n",
    "<td>C; S; ...</td>\n",
    "</tr>\n",
    "</tbody>\n",
    "</table>\n",
    "\n",
    "---\n"
   ]
  },
  {
   "cell_type": "markdown",
   "id": "71425b8c",
   "metadata": {
    "papermill": {
     "duration": 0.062424,
     "end_time": "2023-11-02T06:38:35.868749",
     "exception": false,
     "start_time": "2023-11-02T06:38:35.806325",
     "status": "completed"
    },
    "tags": []
   },
   "source": [
    "# 2. Import Library\n",
    "Melakukan import library yang digunakan selama proses pengerjaan."
   ]
  },
  {
   "cell_type": "code",
   "execution_count": 1,
   "id": "d1b46c2f",
   "metadata": {
    "execution": {
     "iopub.execute_input": "2023-11-02T06:38:36.009307Z",
     "iopub.status.busy": "2023-11-02T06:38:36.002980Z",
     "iopub.status.idle": "2023-11-02T06:38:37.474073Z",
     "shell.execute_reply": "2023-11-02T06:38:37.472991Z"
    },
    "id": "lXqPrkaljhI6",
    "papermill": {
     "duration": 1.543004,
     "end_time": "2023-11-02T06:38:37.474269",
     "exception": false,
     "start_time": "2023-11-02T06:38:35.931265",
     "status": "completed"
    },
    "tags": []
   },
   "outputs": [],
   "source": [
    "import numpy as np\n",
    "import pandas as pd\n",
    "import matplotlib.pyplot as plt\n",
    "import missingno as mso\n",
    "import seaborn as sns\n",
    "import warnings\n",
    "import os\n",
    "\n",
    "from sklearn.linear_model import LogisticRegression\n",
    "from sklearn.model_selection import train_test_split\n",
    "from sklearn.metrics import confusion_matrix\n",
    "from sklearn.metrics import classification_report\n",
    "from sklearn.metrics import accuracy_score\n",
    "from sklearn.tree import DecisionTreeClassifier\n",
    "from sklearn.ensemble import RandomForestClassifier\n",
    "from sklearn.neighbors import KNeighborsClassifier\n",
    "from sklearn.ensemble import GradientBoostingClassifier\n",
    "from xgboost import XGBClassifier\n",
    "from sklearn.model_selection import GridSearchCV, RandomizedSearchCV\n",
    "\n",
    "warnings.simplefilter(action='ignore', category=FutureWarning)"
   ]
  },
  {
   "cell_type": "markdown",
   "id": "e95930ec",
   "metadata": {
    "id": "PNXTClDek38O",
    "papermill": {
     "duration": 0.064659,
     "end_time": "2023-11-02T06:38:37.605035",
     "exception": false,
     "start_time": "2023-11-02T06:38:37.540376",
     "status": "completed"
    },
    "tags": []
   },
   "source": [
    "# 3. Read Dataset\n",
    "Setelah mengimpor library, selanjutnya melakukan impor dataset; train dan test."
   ]
  },
  {
   "cell_type": "code",
   "execution_count": 2,
   "id": "c68d6610",
   "metadata": {
    "execution": {
     "iopub.execute_input": "2023-11-02T06:38:37.736390Z",
     "iopub.status.busy": "2023-11-02T06:38:37.735354Z",
     "iopub.status.idle": "2023-11-02T06:38:37.765578Z",
     "shell.execute_reply": "2023-11-02T06:38:37.766167Z"
    },
    "id": "Rt0FIXLWk2x6",
    "papermill": {
     "duration": 0.098264,
     "end_time": "2023-11-02T06:38:37.766362",
     "exception": false,
     "start_time": "2023-11-02T06:38:37.668098",
     "status": "completed"
    },
    "tags": []
   },
   "outputs": [],
   "source": [
    "train_ds = pd.read_csv(\"../input/titanic/train.csv\") #data training\n",
    "test_ds = pd.read_csv(\"../input/titanic/test.csv\") #data testing"
   ]
  },
  {
   "cell_type": "code",
   "execution_count": 3,
   "id": "d687752c",
   "metadata": {
    "execution": {
     "iopub.execute_input": "2023-11-02T06:38:37.901261Z",
     "iopub.status.busy": "2023-11-02T06:38:37.900107Z",
     "iopub.status.idle": "2023-11-02T06:38:37.929613Z",
     "shell.execute_reply": "2023-11-02T06:38:37.930305Z"
    },
    "id": "YlsS7ZdSlSUf",
    "outputId": "45cb86b7-2a17-4e49-a3b2-98d917639639",
    "papermill": {
     "duration": 0.099232,
     "end_time": "2023-11-02T06:38:37.930506",
     "exception": false,
     "start_time": "2023-11-02T06:38:37.831274",
     "status": "completed"
    },
    "tags": []
   },
   "outputs": [
    {
     "data": {
      "text/html": [
       "<div>\n",
       "<style scoped>\n",
       "    .dataframe tbody tr th:only-of-type {\n",
       "        vertical-align: middle;\n",
       "    }\n",
       "\n",
       "    .dataframe tbody tr th {\n",
       "        vertical-align: top;\n",
       "    }\n",
       "\n",
       "    .dataframe thead th {\n",
       "        text-align: right;\n",
       "    }\n",
       "</style>\n",
       "<table border=\"1\" class=\"dataframe\">\n",
       "  <thead>\n",
       "    <tr style=\"text-align: right;\">\n",
       "      <th></th>\n",
       "      <th>PassengerId</th>\n",
       "      <th>Survived</th>\n",
       "      <th>Pclass</th>\n",
       "      <th>Name</th>\n",
       "      <th>Sex</th>\n",
       "      <th>Age</th>\n",
       "      <th>SibSp</th>\n",
       "      <th>Parch</th>\n",
       "      <th>Ticket</th>\n",
       "      <th>Fare</th>\n",
       "      <th>Cabin</th>\n",
       "      <th>Embarked</th>\n",
       "    </tr>\n",
       "  </thead>\n",
       "  <tbody>\n",
       "    <tr>\n",
       "      <th>0</th>\n",
       "      <td>1</td>\n",
       "      <td>0</td>\n",
       "      <td>3</td>\n",
       "      <td>Braund, Mr. Owen Harris</td>\n",
       "      <td>male</td>\n",
       "      <td>22.0</td>\n",
       "      <td>1</td>\n",
       "      <td>0</td>\n",
       "      <td>A/5 21171</td>\n",
       "      <td>7.2500</td>\n",
       "      <td>NaN</td>\n",
       "      <td>S</td>\n",
       "    </tr>\n",
       "    <tr>\n",
       "      <th>1</th>\n",
       "      <td>2</td>\n",
       "      <td>1</td>\n",
       "      <td>1</td>\n",
       "      <td>Cumings, Mrs. John Bradley (Florence Briggs Th...</td>\n",
       "      <td>female</td>\n",
       "      <td>38.0</td>\n",
       "      <td>1</td>\n",
       "      <td>0</td>\n",
       "      <td>PC 17599</td>\n",
       "      <td>71.2833</td>\n",
       "      <td>C85</td>\n",
       "      <td>C</td>\n",
       "    </tr>\n",
       "    <tr>\n",
       "      <th>2</th>\n",
       "      <td>3</td>\n",
       "      <td>1</td>\n",
       "      <td>3</td>\n",
       "      <td>Heikkinen, Miss. Laina</td>\n",
       "      <td>female</td>\n",
       "      <td>26.0</td>\n",
       "      <td>0</td>\n",
       "      <td>0</td>\n",
       "      <td>STON/O2. 3101282</td>\n",
       "      <td>7.9250</td>\n",
       "      <td>NaN</td>\n",
       "      <td>S</td>\n",
       "    </tr>\n",
       "    <tr>\n",
       "      <th>3</th>\n",
       "      <td>4</td>\n",
       "      <td>1</td>\n",
       "      <td>1</td>\n",
       "      <td>Futrelle, Mrs. Jacques Heath (Lily May Peel)</td>\n",
       "      <td>female</td>\n",
       "      <td>35.0</td>\n",
       "      <td>1</td>\n",
       "      <td>0</td>\n",
       "      <td>113803</td>\n",
       "      <td>53.1000</td>\n",
       "      <td>C123</td>\n",
       "      <td>S</td>\n",
       "    </tr>\n",
       "    <tr>\n",
       "      <th>4</th>\n",
       "      <td>5</td>\n",
       "      <td>0</td>\n",
       "      <td>3</td>\n",
       "      <td>Allen, Mr. William Henry</td>\n",
       "      <td>male</td>\n",
       "      <td>35.0</td>\n",
       "      <td>0</td>\n",
       "      <td>0</td>\n",
       "      <td>373450</td>\n",
       "      <td>8.0500</td>\n",
       "      <td>NaN</td>\n",
       "      <td>S</td>\n",
       "    </tr>\n",
       "  </tbody>\n",
       "</table>\n",
       "</div>"
      ],
      "text/plain": [
       "   PassengerId  Survived  Pclass  \\\n",
       "0            1         0       3   \n",
       "1            2         1       1   \n",
       "2            3         1       3   \n",
       "3            4         1       1   \n",
       "4            5         0       3   \n",
       "\n",
       "                                                Name     Sex   Age  SibSp  \\\n",
       "0                            Braund, Mr. Owen Harris    male  22.0      1   \n",
       "1  Cumings, Mrs. John Bradley (Florence Briggs Th...  female  38.0      1   \n",
       "2                             Heikkinen, Miss. Laina  female  26.0      0   \n",
       "3       Futrelle, Mrs. Jacques Heath (Lily May Peel)  female  35.0      1   \n",
       "4                           Allen, Mr. William Henry    male  35.0      0   \n",
       "\n",
       "   Parch            Ticket     Fare Cabin Embarked  \n",
       "0      0         A/5 21171   7.2500   NaN        S  \n",
       "1      0          PC 17599  71.2833   C85        C  \n",
       "2      0  STON/O2. 3101282   7.9250   NaN        S  \n",
       "3      0            113803  53.1000  C123        S  \n",
       "4      0            373450   8.0500   NaN        S  "
      ]
     },
     "execution_count": 3,
     "metadata": {},
     "output_type": "execute_result"
    }
   ],
   "source": [
    "train_ds.head() #melihat 5 data teratas"
   ]
  },
  {
   "cell_type": "code",
   "execution_count": 4,
   "id": "e9e96cc7",
   "metadata": {
    "execution": {
     "iopub.execute_input": "2023-11-02T06:38:38.065185Z",
     "iopub.status.busy": "2023-11-02T06:38:38.064182Z",
     "iopub.status.idle": "2023-11-02T06:38:38.092589Z",
     "shell.execute_reply": "2023-11-02T06:38:38.091955Z"
    },
    "id": "NoQFdQ8c9wJC",
    "outputId": "ceb03aea-882a-42f7-a09a-4311f47ee53d",
    "papermill": {
     "duration": 0.097308,
     "end_time": "2023-11-02T06:38:38.092759",
     "exception": false,
     "start_time": "2023-11-02T06:38:37.995451",
     "status": "completed"
    },
    "tags": []
   },
   "outputs": [
    {
     "name": "stdout",
     "output_type": "stream",
     "text": [
      "<class 'pandas.core.frame.DataFrame'>\n",
      "RangeIndex: 891 entries, 0 to 890\n",
      "Data columns (total 12 columns):\n",
      " #   Column       Non-Null Count  Dtype  \n",
      "---  ------       --------------  -----  \n",
      " 0   PassengerId  891 non-null    int64  \n",
      " 1   Survived     891 non-null    int64  \n",
      " 2   Pclass       891 non-null    int64  \n",
      " 3   Name         891 non-null    object \n",
      " 4   Sex          891 non-null    object \n",
      " 5   Age          714 non-null    float64\n",
      " 6   SibSp        891 non-null    int64  \n",
      " 7   Parch        891 non-null    int64  \n",
      " 8   Ticket       891 non-null    object \n",
      " 9   Fare         891 non-null    float64\n",
      " 10  Cabin        204 non-null    object \n",
      " 11  Embarked     889 non-null    object \n",
      "dtypes: float64(2), int64(5), object(5)\n",
      "memory usage: 83.7+ KB\n",
      "None\n"
     ]
    }
   ],
   "source": [
    "print(train_ds.info()) #melihat struktur atau informasi data"
   ]
  },
  {
   "cell_type": "code",
   "execution_count": 5,
   "id": "a04ce9c9",
   "metadata": {
    "execution": {
     "iopub.execute_input": "2023-11-02T06:38:38.247131Z",
     "iopub.status.busy": "2023-11-02T06:38:38.246135Z",
     "iopub.status.idle": "2023-11-02T06:38:38.251197Z",
     "shell.execute_reply": "2023-11-02T06:38:38.250430Z"
    },
    "id": "Hl6gEF_RCQfP",
    "outputId": "5f630c9b-c8af-4484-9f49-47d6bc880406",
    "papermill": {
     "duration": 0.090957,
     "end_time": "2023-11-02T06:38:38.251352",
     "exception": false,
     "start_time": "2023-11-02T06:38:38.160395",
     "status": "completed"
    },
    "tags": []
   },
   "outputs": [
    {
     "data": {
      "text/html": [
       "<div>\n",
       "<style scoped>\n",
       "    .dataframe tbody tr th:only-of-type {\n",
       "        vertical-align: middle;\n",
       "    }\n",
       "\n",
       "    .dataframe tbody tr th {\n",
       "        vertical-align: top;\n",
       "    }\n",
       "\n",
       "    .dataframe thead th {\n",
       "        text-align: right;\n",
       "    }\n",
       "</style>\n",
       "<table border=\"1\" class=\"dataframe\">\n",
       "  <thead>\n",
       "    <tr style=\"text-align: right;\">\n",
       "      <th></th>\n",
       "      <th>PassengerId</th>\n",
       "      <th>Pclass</th>\n",
       "      <th>Name</th>\n",
       "      <th>Sex</th>\n",
       "      <th>Age</th>\n",
       "      <th>SibSp</th>\n",
       "      <th>Parch</th>\n",
       "      <th>Ticket</th>\n",
       "      <th>Fare</th>\n",
       "      <th>Cabin</th>\n",
       "      <th>Embarked</th>\n",
       "    </tr>\n",
       "  </thead>\n",
       "  <tbody>\n",
       "    <tr>\n",
       "      <th>0</th>\n",
       "      <td>892</td>\n",
       "      <td>3</td>\n",
       "      <td>Kelly, Mr. James</td>\n",
       "      <td>male</td>\n",
       "      <td>34.5</td>\n",
       "      <td>0</td>\n",
       "      <td>0</td>\n",
       "      <td>330911</td>\n",
       "      <td>7.8292</td>\n",
       "      <td>NaN</td>\n",
       "      <td>Q</td>\n",
       "    </tr>\n",
       "    <tr>\n",
       "      <th>1</th>\n",
       "      <td>893</td>\n",
       "      <td>3</td>\n",
       "      <td>Wilkes, Mrs. James (Ellen Needs)</td>\n",
       "      <td>female</td>\n",
       "      <td>47.0</td>\n",
       "      <td>1</td>\n",
       "      <td>0</td>\n",
       "      <td>363272</td>\n",
       "      <td>7.0000</td>\n",
       "      <td>NaN</td>\n",
       "      <td>S</td>\n",
       "    </tr>\n",
       "    <tr>\n",
       "      <th>2</th>\n",
       "      <td>894</td>\n",
       "      <td>2</td>\n",
       "      <td>Myles, Mr. Thomas Francis</td>\n",
       "      <td>male</td>\n",
       "      <td>62.0</td>\n",
       "      <td>0</td>\n",
       "      <td>0</td>\n",
       "      <td>240276</td>\n",
       "      <td>9.6875</td>\n",
       "      <td>NaN</td>\n",
       "      <td>Q</td>\n",
       "    </tr>\n",
       "    <tr>\n",
       "      <th>3</th>\n",
       "      <td>895</td>\n",
       "      <td>3</td>\n",
       "      <td>Wirz, Mr. Albert</td>\n",
       "      <td>male</td>\n",
       "      <td>27.0</td>\n",
       "      <td>0</td>\n",
       "      <td>0</td>\n",
       "      <td>315154</td>\n",
       "      <td>8.6625</td>\n",
       "      <td>NaN</td>\n",
       "      <td>S</td>\n",
       "    </tr>\n",
       "    <tr>\n",
       "      <th>4</th>\n",
       "      <td>896</td>\n",
       "      <td>3</td>\n",
       "      <td>Hirvonen, Mrs. Alexander (Helga E Lindqvist)</td>\n",
       "      <td>female</td>\n",
       "      <td>22.0</td>\n",
       "      <td>1</td>\n",
       "      <td>1</td>\n",
       "      <td>3101298</td>\n",
       "      <td>12.2875</td>\n",
       "      <td>NaN</td>\n",
       "      <td>S</td>\n",
       "    </tr>\n",
       "  </tbody>\n",
       "</table>\n",
       "</div>"
      ],
      "text/plain": [
       "   PassengerId  Pclass                                          Name     Sex  \\\n",
       "0          892       3                              Kelly, Mr. James    male   \n",
       "1          893       3              Wilkes, Mrs. James (Ellen Needs)  female   \n",
       "2          894       2                     Myles, Mr. Thomas Francis    male   \n",
       "3          895       3                              Wirz, Mr. Albert    male   \n",
       "4          896       3  Hirvonen, Mrs. Alexander (Helga E Lindqvist)  female   \n",
       "\n",
       "    Age  SibSp  Parch   Ticket     Fare Cabin Embarked  \n",
       "0  34.5      0      0   330911   7.8292   NaN        Q  \n",
       "1  47.0      1      0   363272   7.0000   NaN        S  \n",
       "2  62.0      0      0   240276   9.6875   NaN        Q  \n",
       "3  27.0      0      0   315154   8.6625   NaN        S  \n",
       "4  22.0      1      1  3101298  12.2875   NaN        S  "
      ]
     },
     "execution_count": 5,
     "metadata": {},
     "output_type": "execute_result"
    }
   ],
   "source": [
    "test_ds.head() #melihat 5 data teratas"
   ]
  },
  {
   "cell_type": "code",
   "execution_count": 6,
   "id": "05331ee6",
   "metadata": {
    "execution": {
     "iopub.execute_input": "2023-11-02T06:38:38.403486Z",
     "iopub.status.busy": "2023-11-02T06:38:38.402384Z",
     "iopub.status.idle": "2023-11-02T06:38:38.406292Z",
     "shell.execute_reply": "2023-11-02T06:38:38.406928Z"
    },
    "id": "h3gRFs8WCSoZ",
    "outputId": "022f5be4-a077-42e5-91ce-17657213bc6a",
    "papermill": {
     "duration": 0.087514,
     "end_time": "2023-11-02T06:38:38.407162",
     "exception": false,
     "start_time": "2023-11-02T06:38:38.319648",
     "status": "completed"
    },
    "tags": []
   },
   "outputs": [
    {
     "name": "stdout",
     "output_type": "stream",
     "text": [
      "<class 'pandas.core.frame.DataFrame'>\n",
      "RangeIndex: 418 entries, 0 to 417\n",
      "Data columns (total 11 columns):\n",
      " #   Column       Non-Null Count  Dtype  \n",
      "---  ------       --------------  -----  \n",
      " 0   PassengerId  418 non-null    int64  \n",
      " 1   Pclass       418 non-null    int64  \n",
      " 2   Name         418 non-null    object \n",
      " 3   Sex          418 non-null    object \n",
      " 4   Age          332 non-null    float64\n",
      " 5   SibSp        418 non-null    int64  \n",
      " 6   Parch        418 non-null    int64  \n",
      " 7   Ticket       418 non-null    object \n",
      " 8   Fare         417 non-null    float64\n",
      " 9   Cabin        91 non-null     object \n",
      " 10  Embarked     418 non-null    object \n",
      "dtypes: float64(2), int64(4), object(5)\n",
      "memory usage: 36.0+ KB\n",
      "None\n"
     ]
    }
   ],
   "source": [
    "print(test_ds.info()) #melihat struktur atau informasi data"
   ]
  },
  {
   "cell_type": "markdown",
   "id": "b4414d3e",
   "metadata": {
    "papermill": {
     "duration": 0.065542,
     "end_time": "2023-11-02T06:38:38.539018",
     "exception": false,
     "start_time": "2023-11-02T06:38:38.473476",
     "status": "completed"
    },
    "tags": []
   },
   "source": [
    "Dalam **train** data, terlihat **tipe data** dari setiap feature/column yaitu dapat berupa integer/object/float, selain itu **terdeteksi adanya missing values/null values** dalam kolom tertentu ditandai dengan adanya data bernilai NaN. \n",
    "Seperti halnya pada train data, terdapat **beberapa null values juga dalam test data.**"
   ]
  },
  {
   "cell_type": "markdown",
   "id": "799ad726",
   "metadata": {
    "id": "bnWelAo3lryV",
    "papermill": {
     "duration": 0.0668,
     "end_time": "2023-11-02T06:38:38.672174",
     "exception": false,
     "start_time": "2023-11-02T06:38:38.605374",
     "status": "completed"
    },
    "tags": []
   },
   "source": [
    "# 4. Eksplorasi Data"
   ]
  },
  {
   "cell_type": "markdown",
   "id": "99522025",
   "metadata": {
    "papermill": {
     "duration": 0.065575,
     "end_time": "2023-11-02T06:38:38.806399",
     "exception": false,
     "start_time": "2023-11-02T06:38:38.740824",
     "status": "completed"
    },
    "tags": []
   },
   "source": [
    "## 4.1 Distribusi Keselamatan Penumpang (Survived Variable)"
   ]
  },
  {
   "cell_type": "code",
   "execution_count": 7,
   "id": "01ad9d54",
   "metadata": {
    "execution": {
     "iopub.execute_input": "2023-11-02T06:38:38.951591Z",
     "iopub.status.busy": "2023-11-02T06:38:38.950439Z",
     "iopub.status.idle": "2023-11-02T06:38:38.954874Z",
     "shell.execute_reply": "2023-11-02T06:38:38.955387Z"
    },
    "id": "AsavpV1Jlk1T",
    "outputId": "14ebbb01-1c64-4cf6-d2a6-9af6d62157d6",
    "papermill": {
     "duration": 0.081813,
     "end_time": "2023-11-02T06:38:38.955622",
     "exception": false,
     "start_time": "2023-11-02T06:38:38.873809",
     "status": "completed"
    },
    "tags": []
   },
   "outputs": [
    {
     "data": {
      "text/plain": [
       "0    549\n",
       "1    342\n",
       "Name: Survived, dtype: int64"
      ]
     },
     "execution_count": 7,
     "metadata": {},
     "output_type": "execute_result"
    }
   ],
   "source": [
    "train_ds.Survived.value_counts()"
   ]
  },
  {
   "cell_type": "code",
   "execution_count": 8,
   "id": "2f8031c7",
   "metadata": {
    "execution": {
     "iopub.execute_input": "2023-11-02T06:38:39.109229Z",
     "iopub.status.busy": "2023-11-02T06:38:39.102212Z",
     "iopub.status.idle": "2023-11-02T06:38:39.339827Z",
     "shell.execute_reply": "2023-11-02T06:38:39.340606Z"
    },
    "id": "z35XGQZzl2EO",
    "outputId": "7f749554-088f-4981-ed4b-37e8045b799c",
    "papermill": {
     "duration": 0.315058,
     "end_time": "2023-11-02T06:38:39.340846",
     "exception": false,
     "start_time": "2023-11-02T06:38:39.025788",
     "status": "completed"
    },
    "tags": []
   },
   "outputs": [
    {
     "data": {
      "image/png": "[encoded data removed]",
      "text/plain": [
       "<Figure size 432x288 with 1 Axes>"
      ]
     },
     "metadata": {
      "needs_background": "light"
     },
     "output_type": "display_data"
    }
   ],
   "source": [
    "sns.countplot(x=\"Survived\", data=train_ds, palette=\"mako_r\")\n",
    "plt.xlabel('Survived (0=No, 1=Yes)')\n",
    "plt.show()"
   ]
  },
  {
   "cell_type": "code",
   "execution_count": 9,
   "id": "e818bb40",
   "metadata": {
    "execution": {
     "iopub.execute_input": "2023-11-02T06:38:39.482363Z",
     "iopub.status.busy": "2023-11-02T06:38:39.481298Z",
     "iopub.status.idle": "2023-11-02T06:38:39.493393Z",
     "shell.execute_reply": "2023-11-02T06:38:39.492763Z"
    },
    "id": "WndpQgZVmFUC",
    "outputId": "db1d34d0-147c-4cd9-923c-7bbc8c8c15ec",
    "papermill": {
     "duration": 0.083816,
     "end_time": "2023-11-02T06:38:39.493591",
     "exception": false,
     "start_time": "2023-11-02T06:38:39.409775",
     "status": "completed"
    },
    "tags": []
   },
   "outputs": [
    {
     "name": "stdout",
     "output_type": "stream",
     "text": [
      "Persentase Not Survive: 61.62%\n",
      "Persentase Survive: 38.38%\n"
     ]
    }
   ],
   "source": [
    "countNotSurvive = len(train_ds[train_ds.Survived == 0])\n",
    "countSurvive = len(train_ds[train_ds.Survived == 1])\n",
    "print(\"Persentase Not Survive: {:.2f}%\".format((countNotSurvive / (len(train_ds.Survived))*100)))\n",
    "print(\"Persentase Survive: {:.2f}%\".format((countSurvive / (len(train_ds.Survived))*100)))"
   ]
  },
  {
   "cell_type": "markdown",
   "id": "3f132b92",
   "metadata": {
    "papermill": {
     "duration": 0.068398,
     "end_time": "2023-11-02T06:38:39.630749",
     "exception": false,
     "start_time": "2023-11-02T06:38:39.562351",
     "status": "completed"
    },
    "tags": []
   },
   "source": [
    "Dalam train dataset, terdapat 891 penumpang kapal, dan hanya 342 penumpang yang selamat. Dari hasil visualisasi dalam bar chart di atas, diketahui bahwa **persentase penumpang yang tidak selamat lebih besar yaitu sebesar 61.62% (atau sebanyak 549 orang)** dibandingkan dengan persentase penumpang selamat dalam kejadian tenggelam kapal."
   ]
  },
  {
   "cell_type": "markdown",
   "id": "27678100",
   "metadata": {
    "papermill": {
     "duration": 0.068323,
     "end_time": "2023-11-02T06:38:39.767485",
     "exception": false,
     "start_time": "2023-11-02T06:38:39.699162",
     "status": "completed"
    },
    "tags": []
   },
   "source": [
    "## 4.2 Distribusi Jenis Kelamin Penumpang (Sex)"
   ]
  },
  {
   "cell_type": "code",
   "execution_count": 10,
   "id": "bb10f7b5",
   "metadata": {
    "execution": {
     "iopub.execute_input": "2023-11-02T06:38:39.908514Z",
     "iopub.status.busy": "2023-11-02T06:38:39.907798Z",
     "iopub.status.idle": "2023-11-02T06:38:40.107051Z",
     "shell.execute_reply": "2023-11-02T06:38:40.107661Z"
    },
    "id": "uYAdHR0Jm4yE",
    "outputId": "b3d4d4d9-086c-48c0-9afd-3281f986ad33",
    "papermill": {
     "duration": 0.271154,
     "end_time": "2023-11-02T06:38:40.107876",
     "exception": false,
     "start_time": "2023-11-02T06:38:39.836722",
     "status": "completed"
    },
    "tags": []
   },
   "outputs": [
    {
     "data": {
      "image/png": "[encoded data removed]",
      "text/plain": [
       "<Figure size 432x288 with 1 Axes>"
      ]
     },
     "metadata": {
      "needs_background": "light"
     },
     "output_type": "display_data"
    }
   ],
   "source": [
    "sns.countplot(x='Sex', data=train_ds, palette=\"bwr\")\n",
    "plt.xlabel(\"Sex\")\n",
    "plt.show()"
   ]
  },
  {
   "cell_type": "code",
   "execution_count": 11,
   "id": "19587c88",
   "metadata": {
    "execution": {
     "iopub.execute_input": "2023-11-02T06:38:40.258229Z",
     "iopub.status.busy": "2023-11-02T06:38:40.252731Z",
     "iopub.status.idle": "2023-11-02T06:38:40.263881Z",
     "shell.execute_reply": "2023-11-02T06:38:40.263216Z"
    },
    "id": "0NourFgLmjKC",
    "outputId": "88118ea9-4fb6-4d10-94cb-8129315f4614",
    "papermill": {
     "duration": 0.086959,
     "end_time": "2023-11-02T06:38:40.264051",
     "exception": false,
     "start_time": "2023-11-02T06:38:40.177092",
     "status": "completed"
    },
    "tags": []
   },
   "outputs": [
    {
     "name": "stdout",
     "output_type": "stream",
     "text": [
      "Persentase Female: 35.24%\n",
      "Percentase Male: 64.76%\n"
     ]
    }
   ],
   "source": [
    "countFemale = len(train_ds[train_ds.Sex == \"female\"])\n",
    "countMale = len(train_ds[train_ds.Sex == \"male\"])\n",
    "print(\"Persentase Female: {:.2f}%\".format((countFemale / (len(train_ds.Sex))*100)))\n",
    "print(\"Percentase Male: {:.2f}%\".format((countMale / (len(train_ds.Sex))*100)))"
   ]
  },
  {
   "cell_type": "markdown",
   "id": "bcfe8ed2",
   "metadata": {
    "papermill": {
     "duration": 0.072221,
     "end_time": "2023-11-02T06:38:40.410520",
     "exception": false,
     "start_time": "2023-11-02T06:38:40.338299",
     "status": "completed"
    },
    "tags": []
   },
   "source": [
    "Dari hasil visualisasi dalam bar chart di atas, diketahui bahwa **banyaknya penumpang laki-laki lebih besar daripada penumpang perempuan yaitu sebesar 64.76%.**"
   ]
  },
  {
   "cell_type": "markdown",
   "id": "700bb054",
   "metadata": {
    "papermill": {
     "duration": 0.069237,
     "end_time": "2023-11-02T06:38:40.549748",
     "exception": false,
     "start_time": "2023-11-02T06:38:40.480511",
     "status": "completed"
    },
    "tags": []
   },
   "source": [
    "## 4.3 Visualisasi Penumpang Selamat (Survived) berdasarkan Jenis Kelamin (Gender)"
   ]
  },
  {
   "cell_type": "code",
   "execution_count": 12,
   "id": "8d0343b4",
   "metadata": {
    "execution": {
     "iopub.execute_input": "2023-11-02T06:38:40.695245Z",
     "iopub.status.busy": "2023-11-02T06:38:40.694185Z",
     "iopub.status.idle": "2023-11-02T06:38:41.123136Z",
     "shell.execute_reply": "2023-11-02T06:38:41.123674Z"
    },
    "id": "yHBHSPcEnQ_j",
    "outputId": "71e51cef-dbe8-4a42-de9f-5c77b7c41d11",
    "papermill": {
     "duration": 0.503726,
     "end_time": "2023-11-02T06:38:41.123872",
     "exception": false,
     "start_time": "2023-11-02T06:38:40.620146",
     "status": "completed"
    },
    "tags": []
   },
   "outputs": [
    {
     "data": {
      "image/png": "[encoded data removed]",
      "text/plain": [
       "<Figure size 720x432 with 1 Axes>"
      ]
     },
     "metadata": {
      "needs_background": "light"
     },
     "output_type": "display_data"
    }
   ],
   "source": [
    "pd.crosstab(train_ds.Sex,train_ds.Survived).plot(kind=\"bar\",figsize=(10,6))\n",
    "plt.title('Survived status based on Gender')\n",
    "plt.xlabel('Gender')\n",
    "plt.xticks(rotation=0)\n",
    "plt.legend([\"Not Survived\", \"Survived\"])\n",
    "plt.ylabel('Frequency')\n",
    "plt.show()"
   ]
  },
  {
   "cell_type": "markdown",
   "id": "715bf928",
   "metadata": {
    "papermill": {
     "duration": 0.072811,
     "end_time": "2023-11-02T06:38:41.268678",
     "exception": false,
     "start_time": "2023-11-02T06:38:41.195867",
     "status": "completed"
    },
    "tags": []
   },
   "source": [
    "Dari hasil visualisasi dalam bar chart di atas, diketahui bahwa: <br>\n",
    "- Banyaknya penumpang laki-laki yang tidak selamat lebih besar <br>\n",
    "- Banyaknya jumlah penumpang perempuan yang selamat lebih besar"
   ]
  },
  {
   "cell_type": "markdown",
   "id": "39f7b0dc",
   "metadata": {
    "papermill": {
     "duration": 0.073433,
     "end_time": "2023-11-02T06:38:41.411982",
     "exception": false,
     "start_time": "2023-11-02T06:38:41.338549",
     "status": "completed"
    },
    "tags": []
   },
   "source": [
    "## 4.4 Visualisasi Penumpang Selamat (Survived) berdasarkan Usia (Age)"
   ]
  },
  {
   "cell_type": "code",
   "execution_count": 13,
   "id": "2c1273bf",
   "metadata": {
    "execution": {
     "iopub.execute_input": "2023-11-02T06:38:41.561122Z",
     "iopub.status.busy": "2023-11-02T06:38:41.560051Z",
     "iopub.status.idle": "2023-11-02T06:38:43.325028Z",
     "shell.execute_reply": "2023-11-02T06:38:43.325618Z"
    },
    "id": "Y96-myE4oZwU",
    "outputId": "26a042ca-2b24-4573-ddb9-14e00f0e3ad1",
    "papermill": {
     "duration": 1.843093,
     "end_time": "2023-11-02T06:38:43.325851",
     "exception": false,
     "start_time": "2023-11-02T06:38:41.482758",
     "status": "completed"
    },
    "tags": []
   },
   "outputs": [
    {
     "data": {
      "image/png": "[encoded data removed]",
      "text/plain": [
       "<Figure size 1800x576 with 1 Axes>"
      ]
     },
     "metadata": {
      "needs_background": "light"
     },
     "output_type": "display_data"
    }
   ],
   "source": [
    "pd.crosstab(train_ds.Age,train_ds.Survived).plot(kind=\"bar\",figsize=(25,8), color=['#C30281','#13BADF'])\n",
    "plt.title('Survived Status based on Age')\n",
    "plt.xlabel('Age')\n",
    "plt.ylabel('Frequency')\n",
    "plt.show()"
   ]
  },
  {
   "cell_type": "markdown",
   "id": "652593ec",
   "metadata": {
    "papermill": {
     "duration": 0.073295,
     "end_time": "2023-11-02T06:38:43.471825",
     "exception": false,
     "start_time": "2023-11-02T06:38:43.398530",
     "status": "completed"
    },
    "tags": []
   },
   "source": [
    "Dari hasil visualisasi dalam bar chart di atas, diketahui bahwa mayoritas dari penumpang yang tidak selamat berada pada **rentang usia antara 16 sampai 30 tahun.** Kemudian, penumpang yang tidak selamat juga masih terbilang tinggi pada rentang usia 30 sampai 47 tahun."
   ]
  },
  {
   "cell_type": "markdown",
   "id": "23e8905c",
   "metadata": {
    "papermill": {
     "duration": 0.073463,
     "end_time": "2023-11-02T06:38:43.617891",
     "exception": false,
     "start_time": "2023-11-02T06:38:43.544428",
     "status": "completed"
    },
    "tags": []
   },
   "source": [
    "## 4.5 Visualisasi Kelas Penumpang (Pclass) berdasarkan Usia (Age)"
   ]
  },
  {
   "cell_type": "code",
   "execution_count": 14,
   "id": "c7e3af1b",
   "metadata": {
    "execution": {
     "iopub.execute_input": "2023-11-02T06:38:43.777101Z",
     "iopub.status.busy": "2023-11-02T06:38:43.776294Z",
     "iopub.status.idle": "2023-11-02T06:38:44.070675Z",
     "shell.execute_reply": "2023-11-02T06:38:44.071294Z"
    },
    "id": "li6rbe3-pNde",
    "outputId": "1037968d-274d-4581-850b-ad3360aa6ef5",
    "papermill": {
     "duration": 0.377915,
     "end_time": "2023-11-02T06:38:44.071515",
     "exception": false,
     "start_time": "2023-11-02T06:38:43.693600",
     "status": "completed"
    },
    "tags": []
   },
   "outputs": [
    {
     "data": {
      "image/png": "[encoded data removed]",
      "text/plain": [
       "<Figure size 720x432 with 1 Axes>"
      ]
     },
     "metadata": {
      "needs_background": "light"
     },
     "output_type": "display_data"
    }
   ],
   "source": [
    "pd.crosstab(train_ds.Pclass,train_ds.Sex).plot(kind=\"bar\",figsize=(10,6), color=['#86BD49','#F1DDDF'])\n",
    "plt.title('Passenger class based on Gender')\n",
    "plt.xlabel('Gender')\n",
    "plt.ylabel('Frequency')\n",
    "plt.xticks(rotation=0)\n",
    "plt.show()"
   ]
  },
  {
   "cell_type": "markdown",
   "id": "7a16c669",
   "metadata": {
    "papermill": {
     "duration": 0.073156,
     "end_time": "2023-11-02T06:38:44.219366",
     "exception": false,
     "start_time": "2023-11-02T06:38:44.146210",
     "status": "completed"
    },
    "tags": []
   },
   "source": [
    "Dari hasil visualisasi dalam bar chart di atas, terlihat bahwa **jumlah penumpang kelas 1 dan 2 jauh lebih sedikit** dibandingkan dengan penumpang kelas 3 pada kedua gender."
   ]
  },
  {
   "cell_type": "markdown",
   "id": "de2c93f7",
   "metadata": {
    "id": "TExEzqNMpy1t",
    "papermill": {
     "duration": 0.073693,
     "end_time": "2023-11-02T06:38:44.367094",
     "exception": false,
     "start_time": "2023-11-02T06:38:44.293401",
     "status": "completed"
    },
    "tags": []
   },
   "source": [
    "# 5. Dataset Preprocessing\n",
    "Sebelum membangun pemodelan machine learning, terlebih dahulu akan dilakukan pre-processing data, termasuk diantaranya adalah **pendeteksian missing values dan imputasi, feature engineering,encoding, dan drop columns yang tidak digunakan**."
   ]
  },
  {
   "cell_type": "markdown",
   "id": "bf1ffee8",
   "metadata": {
    "id": "Jv6E7_n08wFb",
    "papermill": {
     "duration": 0.073103,
     "end_time": "2023-11-02T06:38:44.514812",
     "exception": false,
     "start_time": "2023-11-02T06:38:44.441709",
     "status": "completed"
    },
    "tags": []
   },
   "source": [
    "## 5.1 Pendeteksian Missing Values"
   ]
  },
  {
   "cell_type": "code",
   "execution_count": 15,
   "id": "dae274a5",
   "metadata": {
    "execution": {
     "iopub.execute_input": "2023-11-02T06:38:44.668365Z",
     "iopub.status.busy": "2023-11-02T06:38:44.667332Z",
     "iopub.status.idle": "2023-11-02T06:38:44.677548Z",
     "shell.execute_reply": "2023-11-02T06:38:44.678090Z"
    },
    "id": "ChMy9VpEq37Y",
    "outputId": "e71d8428-e0b9-4880-812f-ecc44fd35bc4",
    "papermill": {
     "duration": 0.089795,
     "end_time": "2023-11-02T06:38:44.678306",
     "exception": false,
     "start_time": "2023-11-02T06:38:44.588511",
     "status": "completed"
    },
    "tags": []
   },
   "outputs": [
    {
     "data": {
      "text/plain": [
       "PassengerId      0\n",
       "Survived         0\n",
       "Pclass           0\n",
       "Name             0\n",
       "Sex              0\n",
       "Age            177\n",
       "SibSp            0\n",
       "Parch            0\n",
       "Ticket           0\n",
       "Fare             0\n",
       "Cabin          687\n",
       "Embarked         2\n",
       "dtype: int64"
      ]
     },
     "execution_count": 15,
     "metadata": {},
     "output_type": "execute_result"
    }
   ],
   "source": [
    "train_ds.isnull().sum() #menghitung jumlah null/missing values"
   ]
  },
  {
   "cell_type": "code",
   "execution_count": 16,
   "id": "8c9f0b69",
   "metadata": {
    "execution": {
     "iopub.execute_input": "2023-11-02T06:38:44.831550Z",
     "iopub.status.busy": "2023-11-02T06:38:44.830493Z",
     "iopub.status.idle": "2023-11-02T06:38:46.140943Z",
     "shell.execute_reply": "2023-11-02T06:38:46.140299Z"
    },
    "id": "vDfmpP40rE5X",
    "outputId": "879a0a16-0252-4f64-f51d-f1015ff426f7",
    "papermill": {
     "duration": 1.38821,
     "end_time": "2023-11-02T06:38:46.141125",
     "exception": false,
     "start_time": "2023-11-02T06:38:44.752915",
     "status": "completed"
    },
    "tags": []
   },
   "outputs": [
    {
     "data": {
      "text/plain": [
       "<AxesSubplot:>"
      ]
     },
     "execution_count": 16,
     "metadata": {},
     "output_type": "execute_result"
    },
    {
     "data": {
      "image/png": "[encoded data removed]",
      "text/plain": [
       "<Figure size 1152x360 with 3 Axes>"
      ]
     },
     "metadata": {
      "needs_background": "light"
     },
     "output_type": "display_data"
    }
   ],
   "source": [
    "plt.figure(figsize = (16, 5))\n",
    "ax_train = plt.subplot(1,2,2)\n",
    "mso.bar(train_ds, ax = ax_train, fontsize = 12)"
   ]
  },
  {
   "cell_type": "markdown",
   "id": "d925acf6",
   "metadata": {
    "id": "D05rifzCvK4j",
    "papermill": {
     "duration": 0.083003,
     "end_time": "2023-11-02T06:38:46.316978",
     "exception": false,
     "start_time": "2023-11-02T06:38:46.233975",
     "status": "completed"
    },
    "tags": []
   },
   "source": [
    "Terlihat adanya missing value pada beberapa kolom di dataset training, yaitu **Age, Cabin, dan Embarked.**"
   ]
  },
  {
   "cell_type": "code",
   "execution_count": 17,
   "id": "ef403aaf",
   "metadata": {
    "execution": {
     "iopub.execute_input": "2023-11-02T06:38:46.489878Z",
     "iopub.status.busy": "2023-11-02T06:38:46.488834Z",
     "iopub.status.idle": "2023-11-02T06:38:46.492685Z",
     "shell.execute_reply": "2023-11-02T06:38:46.493269Z"
    },
    "id": "TuIqSA0y54fN",
    "outputId": "b5e959f8-ac50-4402-8f26-2fcdd2e1f13f",
    "papermill": {
     "duration": 0.099336,
     "end_time": "2023-11-02T06:38:46.493479",
     "exception": false,
     "start_time": "2023-11-02T06:38:46.394143",
     "status": "completed"
    },
    "tags": []
   },
   "outputs": [
    {
     "data": {
      "text/plain": [
       "PassengerId      0\n",
       "Pclass           0\n",
       "Name             0\n",
       "Sex              0\n",
       "Age             86\n",
       "SibSp            0\n",
       "Parch            0\n",
       "Ticket           0\n",
       "Fare             1\n",
       "Cabin          327\n",
       "Embarked         0\n",
       "dtype: int64"
      ]
     },
     "execution_count": 17,
     "metadata": {},
     "output_type": "execute_result"
    }
   ],
   "source": [
    "test_ds.isnull().sum() #menghitung jumlah null/missing values"
   ]
  },
  {
   "cell_type": "code",
   "execution_count": 18,
   "id": "056ff332",
   "metadata": {
    "execution": {
     "iopub.execute_input": "2023-11-02T06:38:46.670420Z",
     "iopub.status.busy": "2023-11-02T06:38:46.669378Z",
     "iopub.status.idle": "2023-11-02T06:38:47.920405Z",
     "shell.execute_reply": "2023-11-02T06:38:47.921514Z"
    },
    "id": "3u2PAagK56qj",
    "outputId": "17f79ab9-71c8-4d3f-8986-64d068651d93",
    "papermill": {
     "duration": 1.340882,
     "end_time": "2023-11-02T06:38:47.921911",
     "exception": false,
     "start_time": "2023-11-02T06:38:46.581029",
     "status": "completed"
    },
    "tags": []
   },
   "outputs": [
    {
     "data": {
      "text/plain": [
       "<AxesSubplot:>"
      ]
     },
     "execution_count": 18,
     "metadata": {},
     "output_type": "execute_result"
    },
    {
     "data": {
      "image/png": "[encoded data removed]",
      "text/plain": [
       "<Figure size 1152x360 with 3 Axes>"
      ]
     },
     "metadata": {
      "needs_background": "light"
     },
     "output_type": "display_data"
    }
   ],
   "source": [
    "plt.figure(figsize = (16, 5))\n",
    "ax_train = plt.subplot(1,2,2)\n",
    "mso.bar(test_ds, ax = ax_train, fontsize = 12)"
   ]
  },
  {
   "cell_type": "markdown",
   "id": "149f0d0b",
   "metadata": {
    "id": "rVLH9nPO6Bi3",
    "papermill": {
     "duration": 0.080443,
     "end_time": "2023-11-02T06:38:48.084459",
     "exception": false,
     "start_time": "2023-11-02T06:38:48.004016",
     "status": "completed"
    },
    "tags": []
   },
   "source": [
    "Terlihat adanya missing value pada beberapa kolom di dataset training, yaitu **Age, Cabin, dan Fare.**"
   ]
  },
  {
   "cell_type": "markdown",
   "id": "11a8dbfd",
   "metadata": {
    "id": "xMNZMxrmt4kt",
    "papermill": {
     "duration": 0.079638,
     "end_time": "2023-11-02T06:38:48.243386",
     "exception": false,
     "start_time": "2023-11-02T06:38:48.163748",
     "status": "completed"
    },
    "tags": []
   },
   "source": [
    "## 5.2 Penanganan Missing Values\n",
    "Dalam menangani missing values, dapat digunakan teknik **imputasi** yaitu melakukan subsitusi dengan nilai estimasi untuk missing value yang ada, seperti dengan nilai mean atau mediannya. Dalam hal ini, imputasi akan dilakukan pada variabel dengan missing value (Age pada Train dan Test, dan Fare pada Test) menggunakan **nilai mean.** Adapun untuk variabel Cabin tidak dilakukan penanganan karena nantinya variabel tersebut tidak digunakan dalam melakukan pemodelan."
   ]
  },
  {
   "cell_type": "code",
   "execution_count": 19,
   "id": "6ff51fb6",
   "metadata": {
    "execution": {
     "iopub.execute_input": "2023-11-02T06:38:48.407428Z",
     "iopub.status.busy": "2023-11-02T06:38:48.406629Z",
     "iopub.status.idle": "2023-11-02T06:38:48.409848Z",
     "shell.execute_reply": "2023-11-02T06:38:48.410406Z"
    },
    "id": "tqiddHp6tknO",
    "papermill": {
     "duration": 0.088662,
     "end_time": "2023-11-02T06:38:48.410624",
     "exception": false,
     "start_time": "2023-11-02T06:38:48.321962",
     "status": "completed"
    },
    "tags": []
   },
   "outputs": [],
   "source": [
    "# Age (with mean)\n",
    "train_ds['Age'] = train_ds['Age'].fillna(train_ds['Age'].mean())\n",
    "test_ds['Age'] = test_ds['Age'].fillna(test_ds['Age'].mean())"
   ]
  },
  {
   "cell_type": "code",
   "execution_count": 20,
   "id": "b28c8ec8",
   "metadata": {
    "execution": {
     "iopub.execute_input": "2023-11-02T06:38:48.577608Z",
     "iopub.status.busy": "2023-11-02T06:38:48.576837Z",
     "iopub.status.idle": "2023-11-02T06:38:48.582719Z",
     "shell.execute_reply": "2023-11-02T06:38:48.583305Z"
    },
    "id": "jc0oiqf4uNv1",
    "papermill": {
     "duration": 0.092887,
     "end_time": "2023-11-02T06:38:48.583532",
     "exception": false,
     "start_time": "2023-11-02T06:38:48.490645",
     "status": "completed"
    },
    "tags": []
   },
   "outputs": [],
   "source": [
    "# Fare (with mean)\n",
    "test_ds['Fare'] = test_ds['Fare'].fillna(test_ds['Fare'].mean())"
   ]
  },
  {
   "cell_type": "markdown",
   "id": "a6d9af84",
   "metadata": {
    "id": "vb_BuK0K5Jc8",
    "papermill": {
     "duration": 0.079556,
     "end_time": "2023-11-02T06:38:48.742680",
     "exception": false,
     "start_time": "2023-11-02T06:38:48.663124",
     "status": "completed"
    },
    "tags": []
   },
   "source": [
    "## 5.3 Distribusi Numerical Value\n",
    "Selanjutnya akan dilihat bentuk **distribusi** dari variabel dengan nilai numerik dan **melihat skewness** setiap variabel numerik (PassengerID, Survived, Pclass, Age, SibSp, Parch, dan Fare)"
   ]
  },
  {
   "cell_type": "code",
   "execution_count": 21,
   "id": "cd23e3e2",
   "metadata": {
    "execution": {
     "iopub.execute_input": "2023-11-02T06:38:48.904008Z",
     "iopub.status.busy": "2023-11-02T06:38:48.903217Z",
     "iopub.status.idle": "2023-11-02T06:38:50.621503Z",
     "shell.execute_reply": "2023-11-02T06:38:50.620749Z"
    },
    "id": "CbcVt8Ir6Yew",
    "outputId": "334efaae-73e7-4cc2-f3f0-e503d362f0c6",
    "papermill": {
     "duration": 1.800318,
     "end_time": "2023-11-02T06:38:50.621717",
     "exception": false,
     "start_time": "2023-11-02T06:38:48.821399",
     "status": "completed"
    },
    "tags": []
   },
   "outputs": [
    {
     "data": {
      "text/plain": [
       "array([[<AxesSubplot:title={'center':'PassengerId'}>,\n",
       "        <AxesSubplot:title={'center':'Survived'}>,\n",
       "        <AxesSubplot:title={'center':'Pclass'}>],\n",
       "       [<AxesSubplot:title={'center':'Age'}>,\n",
       "        <AxesSubplot:title={'center':'SibSp'}>,\n",
       "        <AxesSubplot:title={'center':'Parch'}>],\n",
       "       [<AxesSubplot:title={'center':'Fare'}>, <AxesSubplot:>,\n",
       "        <AxesSubplot:>]], dtype=object)"
      ]
     },
     "execution_count": 21,
     "metadata": {},
     "output_type": "execute_result"
    },
    {
     "data": {
      "image/png": "[encoded data removed]",
      "text/plain": [
       "<Figure size 1296x864 with 9 Axes>"
      ]
     },
     "metadata": {
      "needs_background": "light"
     },
     "output_type": "display_data"
    }
   ],
   "source": [
    "train_ds.hist(grid=False, figsize=(18, 12), bins=5, color='#86BD49')"
   ]
  },
  {
   "cell_type": "code",
   "execution_count": 22,
   "id": "40d3e4ce",
   "metadata": {
    "execution": {
     "iopub.execute_input": "2023-11-02T06:38:50.793452Z",
     "iopub.status.busy": "2023-11-02T06:38:50.792640Z",
     "iopub.status.idle": "2023-11-02T06:38:50.804224Z",
     "shell.execute_reply": "2023-11-02T06:38:50.803430Z"
    },
    "id": "yxJiGS2X5I0g",
    "outputId": "ee83308b-b71d-40c5-999d-f26c096dd252",
    "papermill": {
     "duration": 0.099241,
     "end_time": "2023-11-02T06:38:50.804386",
     "exception": false,
     "start_time": "2023-11-02T06:38:50.705145",
     "status": "completed"
    },
    "tags": []
   },
   "outputs": [
    {
     "data": {
      "text/plain": [
       "PassengerId    0.000000\n",
       "Survived       0.478523\n",
       "Pclass        -0.630548\n",
       "Age            0.434488\n",
       "SibSp          3.695352\n",
       "Parch          2.749117\n",
       "Fare           4.787317\n",
       "dtype: float64"
      ]
     },
     "execution_count": 22,
     "metadata": {},
     "output_type": "execute_result"
    }
   ],
   "source": [
    "train_ds.skew(axis = 0, skipna = True)"
   ]
  },
  {
   "cell_type": "code",
   "execution_count": 23,
   "id": "e7dfe877",
   "metadata": {
    "execution": {
     "iopub.execute_input": "2023-11-02T06:38:50.972787Z",
     "iopub.status.busy": "2023-11-02T06:38:50.972022Z",
     "iopub.status.idle": "2023-11-02T06:38:52.229200Z",
     "shell.execute_reply": "2023-11-02T06:38:52.228387Z"
    },
    "papermill": {
     "duration": 1.342739,
     "end_time": "2023-11-02T06:38:52.229367",
     "exception": false,
     "start_time": "2023-11-02T06:38:50.886628",
     "status": "completed"
    },
    "tags": []
   },
   "outputs": [
    {
     "data": {
      "text/plain": [
       "array([[<AxesSubplot:title={'center':'PassengerId'}>,\n",
       "        <AxesSubplot:title={'center':'Pclass'}>],\n",
       "       [<AxesSubplot:title={'center':'Age'}>,\n",
       "        <AxesSubplot:title={'center':'SibSp'}>],\n",
       "       [<AxesSubplot:title={'center':'Parch'}>,\n",
       "        <AxesSubplot:title={'center':'Fare'}>]], dtype=object)"
      ]
     },
     "execution_count": 23,
     "metadata": {},
     "output_type": "execute_result"
    },
    {
     "data": {
      "image/png": "[encoded data removed]",
      "text/plain": [
       "<Figure size 1296x864 with 6 Axes>"
      ]
     },
     "metadata": {
      "needs_background": "light"
     },
     "output_type": "display_data"
    }
   ],
   "source": [
    "test_ds.hist(grid=False, figsize=(18, 12), bins=5, color='#86BD49')"
   ]
  },
  {
   "cell_type": "code",
   "execution_count": 24,
   "id": "b6eea8aa",
   "metadata": {
    "execution": {
     "iopub.execute_input": "2023-11-02T06:38:52.416229Z",
     "iopub.status.busy": "2023-11-02T06:38:52.415211Z",
     "iopub.status.idle": "2023-11-02T06:38:52.419182Z",
     "shell.execute_reply": "2023-11-02T06:38:52.418500Z"
    },
    "id": "gpzCGtmk5_t0",
    "outputId": "f1a04fcb-c345-40c5-d20a-a3ee22766f0f",
    "papermill": {
     "duration": 0.102246,
     "end_time": "2023-11-02T06:38:52.419342",
     "exception": false,
     "start_time": "2023-11-02T06:38:52.317096",
     "status": "completed"
    },
    "tags": []
   },
   "outputs": [
    {
     "data": {
      "text/plain": [
       "PassengerId    0.000000\n",
       "Pclass        -0.534170\n",
       "Age            0.512711\n",
       "SibSp          4.168337\n",
       "Parch          4.654462\n",
       "Fare           3.691600\n",
       "dtype: float64"
      ]
     },
     "execution_count": 24,
     "metadata": {},
     "output_type": "execute_result"
    }
   ],
   "source": [
    "test_ds.skew(axis = 0, skipna = True)"
   ]
  },
  {
   "cell_type": "markdown",
   "id": "bc5ffb5b",
   "metadata": {
    "id": "kxhOmfiJ7aNG",
    "papermill": {
     "duration": 0.09622,
     "end_time": "2023-11-02T06:38:52.617209",
     "exception": false,
     "start_time": "2023-11-02T06:38:52.520989",
     "status": "completed"
    },
    "tags": []
   },
   "source": [
    "Skewness pada variabel **SibSp, Parch, dan Fare tinggi**, sehingga akan dilakukan transformasi data dengan square root untuk data training dan testing."
   ]
  },
  {
   "cell_type": "markdown",
   "id": "4ba65c88",
   "metadata": {
    "papermill": {
     "duration": 0.084995,
     "end_time": "2023-11-02T06:38:52.790018",
     "exception": false,
     "start_time": "2023-11-02T06:38:52.705023",
     "status": "completed"
    },
    "tags": []
   },
   "source": [
    "## 5.4 Transformasi dengan square root"
   ]
  },
  {
   "cell_type": "code",
   "execution_count": 25,
   "id": "23d9992b",
   "metadata": {
    "execution": {
     "iopub.execute_input": "2023-11-02T06:38:52.969108Z",
     "iopub.status.busy": "2023-11-02T06:38:52.968292Z",
     "iopub.status.idle": "2023-11-02T06:38:52.972684Z",
     "shell.execute_reply": "2023-11-02T06:38:52.973241Z"
    },
    "id": "uQYVS79_7REl",
    "papermill": {
     "duration": 0.099051,
     "end_time": "2023-11-02T06:38:52.973485",
     "exception": false,
     "start_time": "2023-11-02T06:38:52.874434",
     "status": "completed"
    },
    "tags": []
   },
   "outputs": [],
   "source": [
    "train_ds.Fare = np.sqrt(train_ds.Fare)\n",
    "test_ds.Fare = np.sqrt(test_ds.Fare)\n",
    "\n",
    "train_ds.SibSp = np.sqrt(train_ds.SibSp)\n",
    "test_ds.SibSp = np.sqrt(test_ds.SibSp)\n",
    "\n",
    "train_ds.Parch = np.sqrt(train_ds.Parch)\n",
    "test_ds.Parch = np.sqrt(test_ds.Parch)"
   ]
  },
  {
   "cell_type": "markdown",
   "id": "15acdcb6",
   "metadata": {
    "id": "grzJzFJY5K4O",
    "papermill": {
     "duration": 0.084014,
     "end_time": "2023-11-02T06:38:53.144417",
     "exception": false,
     "start_time": "2023-11-02T06:38:53.060403",
     "status": "completed"
    },
    "tags": []
   },
   "source": [
    "## 5.5 Feature Engineering\n",
    "Dengan menggunakan **one-hot-encoding**, yaitu melakukan transformasi variabel kategorikal ke dalam bentuk yang dapat dipahami pada algoritma machine learning. Hal ini dilakukan untuk meningkatkan keakuratan dari prediksi."
   ]
  },
  {
   "cell_type": "code",
   "execution_count": 26,
   "id": "3ffc3554",
   "metadata": {
    "execution": {
     "iopub.execute_input": "2023-11-02T06:38:53.320111Z",
     "iopub.status.busy": "2023-11-02T06:38:53.316364Z",
     "iopub.status.idle": "2023-11-02T06:38:53.335761Z",
     "shell.execute_reply": "2023-11-02T06:38:53.334957Z"
    },
    "id": "-I8D7d4c5Pwb",
    "papermill": {
     "duration": 0.106706,
     "end_time": "2023-11-02T06:38:53.335953",
     "exception": false,
     "start_time": "2023-11-02T06:38:53.229247",
     "status": "completed"
    },
    "tags": []
   },
   "outputs": [],
   "source": [
    "train_ds = pd.get_dummies(train_ds, columns=['Sex', 'Embarked', 'Pclass'])\n",
    "test_ds = pd.get_dummies(test_ds, columns=['Sex', 'Embarked', 'Pclass'])"
   ]
  },
  {
   "cell_type": "code",
   "execution_count": 27,
   "id": "ac84f8e0",
   "metadata": {
    "execution": {
     "iopub.execute_input": "2023-11-02T06:38:53.531853Z",
     "iopub.status.busy": "2023-11-02T06:38:53.531065Z",
     "iopub.status.idle": "2023-11-02T06:38:53.536442Z",
     "shell.execute_reply": "2023-11-02T06:38:53.535792Z"
    },
    "id": "hCrYUdcP5TiQ",
    "outputId": "d7dff1fa-9e54-4eec-e4ef-a6ad8394dcd1",
    "papermill": {
     "duration": 0.115798,
     "end_time": "2023-11-02T06:38:53.536681",
     "exception": false,
     "start_time": "2023-11-02T06:38:53.420883",
     "status": "completed"
    },
    "tags": []
   },
   "outputs": [
    {
     "data": {
      "text/html": [
       "<div>\n",
       "<style scoped>\n",
       "    .dataframe tbody tr th:only-of-type {\n",
       "        vertical-align: middle;\n",
       "    }\n",
       "\n",
       "    .dataframe tbody tr th {\n",
       "        vertical-align: top;\n",
       "    }\n",
       "\n",
       "    .dataframe thead th {\n",
       "        text-align: right;\n",
       "    }\n",
       "</style>\n",
       "<table border=\"1\" class=\"dataframe\">\n",
       "  <thead>\n",
       "    <tr style=\"text-align: right;\">\n",
       "      <th></th>\n",
       "      <th>PassengerId</th>\n",
       "      <th>Survived</th>\n",
       "      <th>Name</th>\n",
       "      <th>Age</th>\n",
       "      <th>SibSp</th>\n",
       "      <th>Parch</th>\n",
       "      <th>Ticket</th>\n",
       "      <th>Fare</th>\n",
       "      <th>Cabin</th>\n",
       "      <th>Sex_female</th>\n",
       "      <th>Sex_male</th>\n",
       "      <th>Embarked_C</th>\n",
       "      <th>Embarked_Q</th>\n",
       "      <th>Embarked_S</th>\n",
       "      <th>Pclass_1</th>\n",
       "      <th>Pclass_2</th>\n",
       "      <th>Pclass_3</th>\n",
       "    </tr>\n",
       "  </thead>\n",
       "  <tbody>\n",
       "    <tr>\n",
       "      <th>0</th>\n",
       "      <td>1</td>\n",
       "      <td>0</td>\n",
       "      <td>Braund, Mr. Owen Harris</td>\n",
       "      <td>22.0</td>\n",
       "      <td>1.0</td>\n",
       "      <td>0.0</td>\n",
       "      <td>A/5 21171</td>\n",
       "      <td>2.692582</td>\n",
       "      <td>NaN</td>\n",
       "      <td>0</td>\n",
       "      <td>1</td>\n",
       "      <td>0</td>\n",
       "      <td>0</td>\n",
       "      <td>1</td>\n",
       "      <td>0</td>\n",
       "      <td>0</td>\n",
       "      <td>1</td>\n",
       "    </tr>\n",
       "    <tr>\n",
       "      <th>1</th>\n",
       "      <td>2</td>\n",
       "      <td>1</td>\n",
       "      <td>Cumings, Mrs. John Bradley (Florence Briggs Th...</td>\n",
       "      <td>38.0</td>\n",
       "      <td>1.0</td>\n",
       "      <td>0.0</td>\n",
       "      <td>PC 17599</td>\n",
       "      <td>8.442944</td>\n",
       "      <td>C85</td>\n",
       "      <td>1</td>\n",
       "      <td>0</td>\n",
       "      <td>1</td>\n",
       "      <td>0</td>\n",
       "      <td>0</td>\n",
       "      <td>1</td>\n",
       "      <td>0</td>\n",
       "      <td>0</td>\n",
       "    </tr>\n",
       "    <tr>\n",
       "      <th>2</th>\n",
       "      <td>3</td>\n",
       "      <td>1</td>\n",
       "      <td>Heikkinen, Miss. Laina</td>\n",
       "      <td>26.0</td>\n",
       "      <td>0.0</td>\n",
       "      <td>0.0</td>\n",
       "      <td>STON/O2. 3101282</td>\n",
       "      <td>2.815138</td>\n",
       "      <td>NaN</td>\n",
       "      <td>1</td>\n",
       "      <td>0</td>\n",
       "      <td>0</td>\n",
       "      <td>0</td>\n",
       "      <td>1</td>\n",
       "      <td>0</td>\n",
       "      <td>0</td>\n",
       "      <td>1</td>\n",
       "    </tr>\n",
       "    <tr>\n",
       "      <th>3</th>\n",
       "      <td>4</td>\n",
       "      <td>1</td>\n",
       "      <td>Futrelle, Mrs. Jacques Heath (Lily May Peel)</td>\n",
       "      <td>35.0</td>\n",
       "      <td>1.0</td>\n",
       "      <td>0.0</td>\n",
       "      <td>113803</td>\n",
       "      <td>7.286975</td>\n",
       "      <td>C123</td>\n",
       "      <td>1</td>\n",
       "      <td>0</td>\n",
       "      <td>0</td>\n",
       "      <td>0</td>\n",
       "      <td>1</td>\n",
       "      <td>1</td>\n",
       "      <td>0</td>\n",
       "      <td>0</td>\n",
       "    </tr>\n",
       "    <tr>\n",
       "      <th>4</th>\n",
       "      <td>5</td>\n",
       "      <td>0</td>\n",
       "      <td>Allen, Mr. William Henry</td>\n",
       "      <td>35.0</td>\n",
       "      <td>0.0</td>\n",
       "      <td>0.0</td>\n",
       "      <td>373450</td>\n",
       "      <td>2.837252</td>\n",
       "      <td>NaN</td>\n",
       "      <td>0</td>\n",
       "      <td>1</td>\n",
       "      <td>0</td>\n",
       "      <td>0</td>\n",
       "      <td>1</td>\n",
       "      <td>0</td>\n",
       "      <td>0</td>\n",
       "      <td>1</td>\n",
       "    </tr>\n",
       "  </tbody>\n",
       "</table>\n",
       "</div>"
      ],
      "text/plain": [
       "   PassengerId  Survived                                               Name  \\\n",
       "0            1         0                            Braund, Mr. Owen Harris   \n",
       "1            2         1  Cumings, Mrs. John Bradley (Florence Briggs Th...   \n",
       "2            3         1                             Heikkinen, Miss. Laina   \n",
       "3            4         1       Futrelle, Mrs. Jacques Heath (Lily May Peel)   \n",
       "4            5         0                           Allen, Mr. William Henry   \n",
       "\n",
       "    Age  SibSp  Parch            Ticket      Fare Cabin  Sex_female  Sex_male  \\\n",
       "0  22.0    1.0    0.0         A/5 21171  2.692582   NaN           0         1   \n",
       "1  38.0    1.0    0.0          PC 17599  8.442944   C85           1         0   \n",
       "2  26.0    0.0    0.0  STON/O2. 3101282  2.815138   NaN           1         0   \n",
       "3  35.0    1.0    0.0            113803  7.286975  C123           1         0   \n",
       "4  35.0    0.0    0.0            373450  2.837252   NaN           0         1   \n",
       "\n",
       "   Embarked_C  Embarked_Q  Embarked_S  Pclass_1  Pclass_2  Pclass_3  \n",
       "0           0           0           1         0         0         1  \n",
       "1           1           0           0         1         0         0  \n",
       "2           0           0           1         0         0         1  \n",
       "3           0           0           1         1         0         0  \n",
       "4           0           0           1         0         0         1  "
      ]
     },
     "execution_count": 27,
     "metadata": {},
     "output_type": "execute_result"
    }
   ],
   "source": [
    "train_ds.head()"
   ]
  },
  {
   "cell_type": "code",
   "execution_count": 28,
   "id": "559e049b",
   "metadata": {
    "execution": {
     "iopub.execute_input": "2023-11-02T06:38:53.731352Z",
     "iopub.status.busy": "2023-11-02T06:38:53.730217Z",
     "iopub.status.idle": "2023-11-02T06:38:53.735069Z",
     "shell.execute_reply": "2023-11-02T06:38:53.734475Z"
    },
    "id": "B-HBT9zt5T5z",
    "outputId": "6731d757-35a5-4550-b42f-e9577f17f9b8",
    "papermill": {
     "duration": 0.111887,
     "end_time": "2023-11-02T06:38:53.735236",
     "exception": false,
     "start_time": "2023-11-02T06:38:53.623349",
     "status": "completed"
    },
    "tags": []
   },
   "outputs": [
    {
     "data": {
      "text/html": [
       "<div>\n",
       "<style scoped>\n",
       "    .dataframe tbody tr th:only-of-type {\n",
       "        vertical-align: middle;\n",
       "    }\n",
       "\n",
       "    .dataframe tbody tr th {\n",
       "        vertical-align: top;\n",
       "    }\n",
       "\n",
       "    .dataframe thead th {\n",
       "        text-align: right;\n",
       "    }\n",
       "</style>\n",
       "<table border=\"1\" class=\"dataframe\">\n",
       "  <thead>\n",
       "    <tr style=\"text-align: right;\">\n",
       "      <th></th>\n",
       "      <th>PassengerId</th>\n",
       "      <th>Name</th>\n",
       "      <th>Age</th>\n",
       "      <th>SibSp</th>\n",
       "      <th>Parch</th>\n",
       "      <th>Ticket</th>\n",
       "      <th>Fare</th>\n",
       "      <th>Cabin</th>\n",
       "      <th>Sex_female</th>\n",
       "      <th>Sex_male</th>\n",
       "      <th>Embarked_C</th>\n",
       "      <th>Embarked_Q</th>\n",
       "      <th>Embarked_S</th>\n",
       "      <th>Pclass_1</th>\n",
       "      <th>Pclass_2</th>\n",
       "      <th>Pclass_3</th>\n",
       "    </tr>\n",
       "  </thead>\n",
       "  <tbody>\n",
       "    <tr>\n",
       "      <th>0</th>\n",
       "      <td>892</td>\n",
       "      <td>Kelly, Mr. James</td>\n",
       "      <td>34.5</td>\n",
       "      <td>0.0</td>\n",
       "      <td>0.0</td>\n",
       "      <td>330911</td>\n",
       "      <td>2.798071</td>\n",
       "      <td>NaN</td>\n",
       "      <td>0</td>\n",
       "      <td>1</td>\n",
       "      <td>0</td>\n",
       "      <td>1</td>\n",
       "      <td>0</td>\n",
       "      <td>0</td>\n",
       "      <td>0</td>\n",
       "      <td>1</td>\n",
       "    </tr>\n",
       "    <tr>\n",
       "      <th>1</th>\n",
       "      <td>893</td>\n",
       "      <td>Wilkes, Mrs. James (Ellen Needs)</td>\n",
       "      <td>47.0</td>\n",
       "      <td>1.0</td>\n",
       "      <td>0.0</td>\n",
       "      <td>363272</td>\n",
       "      <td>2.645751</td>\n",
       "      <td>NaN</td>\n",
       "      <td>1</td>\n",
       "      <td>0</td>\n",
       "      <td>0</td>\n",
       "      <td>0</td>\n",
       "      <td>1</td>\n",
       "      <td>0</td>\n",
       "      <td>0</td>\n",
       "      <td>1</td>\n",
       "    </tr>\n",
       "    <tr>\n",
       "      <th>2</th>\n",
       "      <td>894</td>\n",
       "      <td>Myles, Mr. Thomas Francis</td>\n",
       "      <td>62.0</td>\n",
       "      <td>0.0</td>\n",
       "      <td>0.0</td>\n",
       "      <td>240276</td>\n",
       "      <td>3.112475</td>\n",
       "      <td>NaN</td>\n",
       "      <td>0</td>\n",
       "      <td>1</td>\n",
       "      <td>0</td>\n",
       "      <td>1</td>\n",
       "      <td>0</td>\n",
       "      <td>0</td>\n",
       "      <td>1</td>\n",
       "      <td>0</td>\n",
       "    </tr>\n",
       "    <tr>\n",
       "      <th>3</th>\n",
       "      <td>895</td>\n",
       "      <td>Wirz, Mr. Albert</td>\n",
       "      <td>27.0</td>\n",
       "      <td>0.0</td>\n",
       "      <td>0.0</td>\n",
       "      <td>315154</td>\n",
       "      <td>2.943213</td>\n",
       "      <td>NaN</td>\n",
       "      <td>0</td>\n",
       "      <td>1</td>\n",
       "      <td>0</td>\n",
       "      <td>0</td>\n",
       "      <td>1</td>\n",
       "      <td>0</td>\n",
       "      <td>0</td>\n",
       "      <td>1</td>\n",
       "    </tr>\n",
       "    <tr>\n",
       "      <th>4</th>\n",
       "      <td>896</td>\n",
       "      <td>Hirvonen, Mrs. Alexander (Helga E Lindqvist)</td>\n",
       "      <td>22.0</td>\n",
       "      <td>1.0</td>\n",
       "      <td>1.0</td>\n",
       "      <td>3101298</td>\n",
       "      <td>3.505353</td>\n",
       "      <td>NaN</td>\n",
       "      <td>1</td>\n",
       "      <td>0</td>\n",
       "      <td>0</td>\n",
       "      <td>0</td>\n",
       "      <td>1</td>\n",
       "      <td>0</td>\n",
       "      <td>0</td>\n",
       "      <td>1</td>\n",
       "    </tr>\n",
       "  </tbody>\n",
       "</table>\n",
       "</div>"
      ],
      "text/plain": [
       "   PassengerId                                          Name   Age  SibSp  \\\n",
       "0          892                              Kelly, Mr. James  34.5    0.0   \n",
       "1          893              Wilkes, Mrs. James (Ellen Needs)  47.0    1.0   \n",
       "2          894                     Myles, Mr. Thomas Francis  62.0    0.0   \n",
       "3          895                              Wirz, Mr. Albert  27.0    0.0   \n",
       "4          896  Hirvonen, Mrs. Alexander (Helga E Lindqvist)  22.0    1.0   \n",
       "\n",
       "   Parch   Ticket      Fare Cabin  Sex_female  Sex_male  Embarked_C  \\\n",
       "0    0.0   330911  2.798071   NaN           0         1           0   \n",
       "1    0.0   363272  2.645751   NaN           1         0           0   \n",
       "2    0.0   240276  3.112475   NaN           0         1           0   \n",
       "3    0.0   315154  2.943213   NaN           0         1           0   \n",
       "4    1.0  3101298  3.505353   NaN           1         0           0   \n",
       "\n",
       "   Embarked_Q  Embarked_S  Pclass_1  Pclass_2  Pclass_3  \n",
       "0           1           0         0         0         1  \n",
       "1           0           1         0         0         1  \n",
       "2           1           0         0         1         0  \n",
       "3           0           1         0         0         1  \n",
       "4           0           1         0         0         1  "
      ]
     },
     "execution_count": 28,
     "metadata": {},
     "output_type": "execute_result"
    }
   ],
   "source": [
    "test_ds.head()"
   ]
  },
  {
   "cell_type": "markdown",
   "id": "fc3a7f32",
   "metadata": {
    "id": "QXVlsYJWyBNY",
    "papermill": {
     "duration": 0.086841,
     "end_time": "2023-11-02T06:38:53.910179",
     "exception": false,
     "start_time": "2023-11-02T06:38:53.823338",
     "status": "completed"
    },
    "tags": []
   },
   "source": [
    "## 5.6 Menghapus Kolom Cabin, Name, PassengerID\n",
    "Karena berupa unique data sehingga tidak digunakan dalam pemodelan."
   ]
  },
  {
   "cell_type": "code",
   "execution_count": 29,
   "id": "f349437a",
   "metadata": {
    "execution": {
     "iopub.execute_input": "2023-11-02T06:38:54.092187Z",
     "iopub.status.busy": "2023-11-02T06:38:54.091088Z",
     "iopub.status.idle": "2023-11-02T06:38:54.100038Z",
     "shell.execute_reply": "2023-11-02T06:38:54.100647Z"
    },
    "id": "FbdhAJkvyIka",
    "papermill": {
     "duration": 0.103487,
     "end_time": "2023-11-02T06:38:54.100875",
     "exception": false,
     "start_time": "2023-11-02T06:38:53.997388",
     "status": "completed"
    },
    "tags": []
   },
   "outputs": [],
   "source": [
    "train_ds = train_ds.drop(['Cabin','Name','Ticket'], axis = 1)\n",
    "test_ds = test_ds.drop(['Cabin','Name','Ticket'], axis = 1)"
   ]
  },
  {
   "cell_type": "code",
   "execution_count": 30,
   "id": "69c2a775",
   "metadata": {
    "execution": {
     "iopub.execute_input": "2023-11-02T06:38:54.288078Z",
     "iopub.status.busy": "2023-11-02T06:38:54.287249Z",
     "iopub.status.idle": "2023-11-02T06:38:54.291674Z",
     "shell.execute_reply": "2023-11-02T06:38:54.290927Z"
    },
    "id": "256GYE0t_bWP",
    "papermill": {
     "duration": 0.101778,
     "end_time": "2023-11-02T06:38:54.291872",
     "exception": false,
     "start_time": "2023-11-02T06:38:54.190094",
     "status": "completed"
    },
    "tags": []
   },
   "outputs": [],
   "source": [
    "train_ds1 = train_ds.drop(['PassengerId'], axis = 1)\n",
    "test_ds1 = test_ds.drop(['PassengerId'], axis = 1)"
   ]
  },
  {
   "cell_type": "markdown",
   "id": "88c39400",
   "metadata": {
    "id": "_de79gM448-k",
    "papermill": {
     "duration": 0.092466,
     "end_time": "2023-11-02T06:38:54.473226",
     "exception": false,
     "start_time": "2023-11-02T06:38:54.380760",
     "status": "completed"
    },
    "tags": []
   },
   "source": [
    "# 6. Dataset Preparation"
   ]
  },
  {
   "cell_type": "markdown",
   "id": "9fbeb542",
   "metadata": {
    "papermill": {
     "duration": 0.089968,
     "end_time": "2023-11-02T06:38:54.652188",
     "exception": false,
     "start_time": "2023-11-02T06:38:54.562220",
     "status": "completed"
    },
    "tags": []
   },
   "source": [
    "## 6.1 Split dataset dengan rasio: 80% training, 20% testing"
   ]
  },
  {
   "cell_type": "code",
   "execution_count": 31,
   "id": "a28dbd3e",
   "metadata": {
    "execution": {
     "iopub.execute_input": "2023-11-02T06:38:54.843304Z",
     "iopub.status.busy": "2023-11-02T06:38:54.842314Z",
     "iopub.status.idle": "2023-11-02T06:38:54.849529Z",
     "shell.execute_reply": "2023-11-02T06:38:54.850081Z"
    },
    "id": "gJI8BBhM5Gs6",
    "papermill": {
     "duration": 0.104902,
     "end_time": "2023-11-02T06:38:54.850292",
     "exception": false,
     "start_time": "2023-11-02T06:38:54.745390",
     "status": "completed"
    },
    "tags": []
   },
   "outputs": [],
   "source": [
    "predictors = train_ds1.drop([\"Survived\"], axis=1) #mendapat prediktor dgn menghapus kolom survived\n",
    "target = train_ds1[\"Survived\"]\n",
    "x_train, x_test, y_train, y_test = train_test_split(predictors, target, test_size = 0.2, random_state = 0)"
   ]
  },
  {
   "cell_type": "markdown",
   "id": "89ea1a7f",
   "metadata": {
    "papermill": {
     "duration": 0.088711,
     "end_time": "2023-11-02T06:38:55.027936",
     "exception": false,
     "start_time": "2023-11-02T06:38:54.939225",
     "status": "completed"
    },
    "tags": []
   },
   "source": [
    "## 6.2 Menangani imbalance data dengan teknik SMOTE\n",
    "Karena banyaknya penumpang tidak selamat lebih besar dibandingkan banyaknya penumpang selamat, maka terindikasi imbalance data, perlu ditangani **agar menghindari terjadinya overfitting** pada hasil prediksi nantinya."
   ]
  },
  {
   "cell_type": "code",
   "execution_count": 32,
   "id": "72c78598",
   "metadata": {
    "execution": {
     "iopub.execute_input": "2023-11-02T06:38:55.208853Z",
     "iopub.status.busy": "2023-11-02T06:38:55.208053Z",
     "iopub.status.idle": "2023-11-02T06:38:55.366614Z",
     "shell.execute_reply": "2023-11-02T06:38:55.365921Z"
    },
    "papermill": {
     "duration": 0.251349,
     "end_time": "2023-11-02T06:38:55.366804",
     "exception": false,
     "start_time": "2023-11-02T06:38:55.115455",
     "status": "completed"
    },
    "tags": []
   },
   "outputs": [],
   "source": [
    "from imblearn.over_sampling import SMOTE\n",
    "x_train, y_train = SMOTE().fit_resample(x_train, y_train)"
   ]
  },
  {
   "cell_type": "code",
   "execution_count": 33,
   "id": "8ed7849b",
   "metadata": {
    "execution": {
     "iopub.execute_input": "2023-11-02T06:38:55.556238Z",
     "iopub.status.busy": "2023-11-02T06:38:55.554985Z",
     "iopub.status.idle": "2023-11-02T06:38:55.734965Z",
     "shell.execute_reply": "2023-11-02T06:38:55.735578Z"
    },
    "papermill": {
     "duration": 0.281356,
     "end_time": "2023-11-02T06:38:55.735829",
     "exception": false,
     "start_time": "2023-11-02T06:38:55.454473",
     "status": "completed"
    },
    "tags": []
   },
   "outputs": [
    {
     "data": {
      "image/png": "[encoded data removed]",
      "text/plain": [
       "<Figure size 432x288 with 1 Axes>"
      ]
     },
     "metadata": {},
     "output_type": "display_data"
    }
   ],
   "source": [
    "sns.set_theme(style=\"darkgrid\")\n",
    "sns.countplot(y=y_train, data=test_ds, palette=\"mako_r\")\n",
    "plt.ylabel('Survived Status')\n",
    "plt.xlabel('Total')\n",
    "plt.show()"
   ]
  },
  {
   "cell_type": "markdown",
   "id": "2989ab9c",
   "metadata": {
    "id": "wcPIPfpa0kXf",
    "papermill": {
     "duration": 0.088446,
     "end_time": "2023-11-02T06:38:55.915033",
     "exception": false,
     "start_time": "2023-11-02T06:38:55.826587",
     "status": "completed"
    },
    "tags": []
   },
   "source": [
    "# 7. Model Building"
   ]
  },
  {
   "cell_type": "markdown",
   "id": "11aae718",
   "metadata": {
    "id": "zWJ_7M6__NOZ",
    "papermill": {
     "duration": 0.089172,
     "end_time": "2023-11-02T06:38:56.094946",
     "exception": false,
     "start_time": "2023-11-02T06:38:56.005774",
     "status": "completed"
    },
    "tags": []
   },
   "source": [
    "## 7.1 Logistic Regression\n",
    "Regresi logistik adalah metode statistik yang digunakan untuk membangun model machine learning yang variabel terikatnya bersifat dikotomis: yaitu biner. Regresi logistik digunakan untuk menggambarkan data dan hubungan antara satu variabel terikat dengan satu atau lebih variabel bebas. Variabel bebasnya dapat bertipe nominal, ordinal, atau interval.\n",
    "\n",
    "Nama “regresi logistik” diambil dari konsep fungsi logistik yang digunakannya. Fungsi logistik disebut juga fungsi sigmoid. Nilai fungsi logistik ini terletak antara nol dan satu."
   ]
  },
  {
   "cell_type": "code",
   "execution_count": 34,
   "id": "778c7812",
   "metadata": {
    "execution": {
     "iopub.execute_input": "2023-11-02T06:38:56.280782Z",
     "iopub.status.busy": "2023-11-02T06:38:56.280005Z",
     "iopub.status.idle": "2023-11-02T06:38:56.300586Z",
     "shell.execute_reply": "2023-11-02T06:38:56.299799Z"
    },
    "id": "HrTylbTL0j-3",
    "outputId": "d452d147-734a-4dd9-a8c1-9fcee51255f1",
    "papermill": {
     "duration": 0.116928,
     "end_time": "2023-11-02T06:38:56.300756",
     "exception": false,
     "start_time": "2023-11-02T06:38:56.183828",
     "status": "completed"
    },
    "tags": []
   },
   "outputs": [
    {
     "name": "stdout",
     "output_type": "stream",
     "text": [
      "              precision    recall  f1-score   support\n",
      "\n",
      "           0       0.86      0.80      0.83       110\n",
      "           1       0.71      0.80      0.75        69\n",
      "\n",
      "    accuracy                           0.80       179\n",
      "   macro avg       0.79      0.80      0.79       179\n",
      "weighted avg       0.81      0.80      0.80       179\n",
      "\n",
      "[[88 22]\n",
      " [14 55]]\n",
      "Logistic regression accuracy: 79.89%\n"
     ]
    }
   ],
   "source": [
    "LRclassifier = LogisticRegression(solver='liblinear', max_iter=5000)\n",
    "LRclassifier.fit(x_train, y_train)\n",
    "\n",
    "y_pred = LRclassifier.predict(x_test)\n",
    "\n",
    "print(classification_report(y_test, y_pred))\n",
    "print(confusion_matrix(y_test, y_pred))\n",
    "LRAcc = accuracy_score(y_pred,y_test)\n",
    "\n",
    "print('Logistic regression accuracy: {:.2f}%'.format(LRAcc*100))"
   ]
  },
  {
   "cell_type": "markdown",
   "id": "eb161d13",
   "metadata": {
    "id": "ntW52Jrq_JnS",
    "papermill": {
     "duration": 0.089292,
     "end_time": "2023-11-02T06:38:56.480016",
     "exception": false,
     "start_time": "2023-11-02T06:38:56.390724",
     "status": "completed"
    },
    "tags": []
   },
   "source": [
    "## 7.2 Decision Tree\n",
    "Decision Tree adalah teknik Supervised learning yang dapat digunakan untuk masalah klasifikasi dan Regresi, namun umumnya lebih disukai untuk menyelesaikan masalah Klasifikasi. Dalam algoritma ini terdapat node internal mewakili fitur kumpulan data, cabang (branches) mewakili aturan keputusan, dan setiap node daun (leaf node) mewakili hasilnya.\n",
    "\n",
    "Terdapat dua node, yaitu Decision Node dan Leaf Node. Decision Node digunakan untuk membuat keputusan apa pun dan memiliki banyak cabang, sedangkan Decision Leaf adalah keluaran dari keputusan tersebut dan tidak berisi cabang lebih lanjut."
   ]
  },
  {
   "cell_type": "code",
   "execution_count": 35,
   "id": "a2269dbb",
   "metadata": {
    "execution": {
     "iopub.execute_input": "2023-11-02T06:38:56.670435Z",
     "iopub.status.busy": "2023-11-02T06:38:56.669388Z",
     "iopub.status.idle": "2023-11-02T06:38:56.685428Z",
     "shell.execute_reply": "2023-11-02T06:38:56.684772Z"
    },
    "papermill": {
     "duration": 0.115722,
     "end_time": "2023-11-02T06:38:56.685620",
     "exception": false,
     "start_time": "2023-11-02T06:38:56.569898",
     "status": "completed"
    },
    "tags": []
   },
   "outputs": [
    {
     "name": "stdout",
     "output_type": "stream",
     "text": [
      "              precision    recall  f1-score   support\n",
      "\n",
      "           0       0.82      0.90      0.86       110\n",
      "           1       0.81      0.70      0.75        69\n",
      "\n",
      "    accuracy                           0.82       179\n",
      "   macro avg       0.82      0.80      0.81       179\n",
      "weighted avg       0.82      0.82      0.82       179\n",
      "\n",
      "[[99 11]\n",
      " [21 48]]\n",
      "Decision tree accuracy: 82.12%\n"
     ]
    }
   ],
   "source": [
    "DTclassifier = DecisionTreeClassifier(max_leaf_nodes=10)\n",
    "DTclassifier.fit(x_train, y_train)\n",
    "\n",
    "y_pred = DTclassifier.predict(x_test)\n",
    "\n",
    "print(classification_report(y_test, y_pred))\n",
    "print(confusion_matrix(y_test, y_pred))\n",
    "DTAcc = accuracy_score(y_pred,y_test)\n",
    "\n",
    "print('Decision tree accuracy: {:.2f}%'.format(DTAcc*100))"
   ]
  },
  {
   "cell_type": "code",
   "execution_count": 36,
   "id": "d7d87ea6",
   "metadata": {
    "execution": {
     "iopub.execute_input": "2023-11-02T06:38:56.878689Z",
     "iopub.status.busy": "2023-11-02T06:38:56.877910Z",
     "iopub.status.idle": "2023-11-02T06:38:57.512267Z",
     "shell.execute_reply": "2023-11-02T06:38:57.512885Z"
    },
    "papermill": {
     "duration": 0.736002,
     "end_time": "2023-11-02T06:38:57.513097",
     "exception": false,
     "start_time": "2023-11-02T06:38:56.777095",
     "status": "completed"
    },
    "tags": []
   },
   "outputs": [
    {
     "data": {
      "image/png": "[encoded data removed]",
      "text/plain": [
       "<Figure size 432x288 with 1 Axes>"
      ]
     },
     "metadata": {},
     "output_type": "display_data"
    },
    {
     "name": "stdout",
     "output_type": "stream",
     "text": [
      "DT Acc Max: 83.80%\n"
     ]
    }
   ],
   "source": [
    "scoreListDT = []\n",
    "for i in range(2,50):\n",
    "    DTclassifier = DecisionTreeClassifier(max_leaf_nodes=i)\n",
    "    DTclassifier.fit(x_train, y_train)\n",
    "    scoreListDT.append(DTclassifier.score(x_test, y_test))\n",
    "    \n",
    "plt.plot(range(2,50), scoreListDT)\n",
    "plt.xticks(np.arange(2,50,2))\n",
    "plt.xlabel(\"Leaf\")\n",
    "plt.ylabel(\"Score\")\n",
    "plt.show()\n",
    "DTAccMax = max(scoreListDT)\n",
    "print(\"DT Acc Max: {:.2f}%\".format(DTAccMax*100))"
   ]
  },
  {
   "cell_type": "markdown",
   "id": "4c1aef20",
   "metadata": {
    "id": "zUKU-1E2AMcb",
    "papermill": {
     "duration": 0.096246,
     "end_time": "2023-11-02T06:38:57.703297",
     "exception": false,
     "start_time": "2023-11-02T06:38:57.607051",
     "status": "completed"
    },
    "tags": []
   },
   "source": [
    "## 7.4 K Neighbors Classifier\n",
    "Algoritma k-nearest neighbours (KNN) adalah metode klasifikasi data untuk memperkirakan kemungkinan suatu titik data akan menjadi anggota suatu kelompok atau kelompok lain berdasarkan pada kelompok mana titik data yang paling dekat dengannya berada. Algoritme k-nearest neighbour adalah jenis algoritma supervised machine learning  yang digunakan untuk menyelesaikan masalah klasifikasi dan regresi.\n",
    "\n",
    "KNN disebut lazy learning algorithm karena algoritma ini tidak melakukan pelatihan apa pun pada data pelatihan. Sebaliknya, algoritma hanya menyimpan data selama waktu pelatihan dan tidak melakukan penghitungan apa pun. Hal ini menjadikan KNN ideal untuk data mining."
   ]
  },
  {
   "cell_type": "code",
   "execution_count": 37,
   "id": "4bc88185",
   "metadata": {
    "execution": {
     "iopub.execute_input": "2023-11-02T06:38:57.896168Z",
     "iopub.status.busy": "2023-11-02T06:38:57.895376Z",
     "iopub.status.idle": "2023-11-02T06:38:57.921915Z",
     "shell.execute_reply": "2023-11-02T06:38:57.922546Z"
    },
    "id": "PcOABLDZ_7o3",
    "outputId": "70ef1825-22cd-4289-b5e9-11df0ef0f0f1",
    "papermill": {
     "duration": 0.128654,
     "end_time": "2023-11-02T06:38:57.922798",
     "exception": false,
     "start_time": "2023-11-02T06:38:57.794144",
     "status": "completed"
    },
    "tags": []
   },
   "outputs": [
    {
     "name": "stdout",
     "output_type": "stream",
     "text": [
      "              precision    recall  f1-score   support\n",
      "\n",
      "           0       0.78      0.78      0.78       110\n",
      "           1       0.65      0.65      0.65        69\n",
      "\n",
      "    accuracy                           0.73       179\n",
      "   macro avg       0.72      0.72      0.72       179\n",
      "weighted avg       0.73      0.73      0.73       179\n",
      "\n",
      "[[86 24]\n",
      " [24 45]]\n",
      "K Neighbors Classifier accuracy: 73.18%\n"
     ]
    }
   ],
   "source": [
    "KNclassifier = KNeighborsClassifier(n_neighbors=50)\n",
    "KNclassifier.fit(x_train, y_train)\n",
    "\n",
    "y_pred = KNclassifier.predict(x_test)\n",
    "\n",
    "print(classification_report(y_test, y_pred))\n",
    "print(confusion_matrix(y_test, y_pred))\n",
    "KNAcc = accuracy_score(y_pred,y_test)\n",
    "\n",
    "print('K Neighbors Classifier accuracy: {:.2f}%'.format(KNAcc*100))"
   ]
  },
  {
   "cell_type": "code",
   "execution_count": 38,
   "id": "85858da7",
   "metadata": {
    "execution": {
     "iopub.execute_input": "2023-11-02T06:38:58.124292Z",
     "iopub.status.busy": "2023-11-02T06:38:58.123477Z",
     "iopub.status.idle": "2023-11-02T06:38:58.994289Z",
     "shell.execute_reply": "2023-11-02T06:38:58.994919Z"
    },
    "papermill": {
     "duration": 0.973365,
     "end_time": "2023-11-02T06:38:58.995128",
     "exception": false,
     "start_time": "2023-11-02T06:38:58.021763",
     "status": "completed"
    },
    "tags": []
   },
   "outputs": [
    {
     "data": {
      "image/png": "[encoded data removed]",
      "text/plain": [
       "<Figure size 432x288 with 1 Axes>"
      ]
     },
     "metadata": {},
     "output_type": "display_data"
    },
    {
     "name": "stdout",
     "output_type": "stream",
     "text": [
      "KNN Acc Max: 79.89%\n"
     ]
    }
   ],
   "source": [
    "scoreListknn = []\n",
    "for i in range(1,30):\n",
    "    KNclassifier = KNeighborsClassifier(n_neighbors = i)\n",
    "    KNclassifier.fit(x_train, y_train)\n",
    "    scoreListknn.append(KNclassifier.score(x_test, y_test))\n",
    "    \n",
    "plt.plot(range(1,30), scoreListknn)\n",
    "plt.xticks(np.arange(1,30,1))\n",
    "plt.xlabel(\"K value\")\n",
    "plt.ylabel(\"Score\")\n",
    "plt.show()\n",
    "KNAccMax = max(scoreListknn)\n",
    "print(\"KNN Acc Max: {:.2f}%\".format(KNAccMax*100))"
   ]
  },
  {
   "cell_type": "markdown",
   "id": "304fb409",
   "metadata": {
    "papermill": {
     "duration": 0.09575,
     "end_time": "2023-11-02T06:38:59.186137",
     "exception": false,
     "start_time": "2023-11-02T06:38:59.090387",
     "status": "completed"
    },
    "tags": []
   },
   "source": [
    "## 7.5 Random Forest\n",
    "Random Forest adalah algoritma tree-based machine learning yang memanfaatkan kekuatan beberapa decision tree untuk mengambil keputusan. Setiap tree di random forest mengeluarkan prediksi kelas dan kelas dengan suara terbanyak menjadi prediksi model."
   ]
  },
  {
   "cell_type": "code",
   "execution_count": 39,
   "id": "44e29afc",
   "metadata": {
    "execution": {
     "iopub.execute_input": "2023-11-02T06:38:59.388240Z",
     "iopub.status.busy": "2023-11-02T06:38:59.387188Z",
     "iopub.status.idle": "2023-11-02T06:38:59.644681Z",
     "shell.execute_reply": "2023-11-02T06:38:59.645250Z"
    },
    "papermill": {
     "duration": 0.363752,
     "end_time": "2023-11-02T06:38:59.645438",
     "exception": false,
     "start_time": "2023-11-02T06:38:59.281686",
     "status": "completed"
    },
    "tags": []
   },
   "outputs": [
    {
     "name": "stdout",
     "output_type": "stream",
     "text": [
      "              precision    recall  f1-score   support\n",
      "\n",
      "           0       0.83      0.86      0.85       110\n",
      "           1       0.77      0.72      0.75        69\n",
      "\n",
      "    accuracy                           0.81       179\n",
      "   macro avg       0.80      0.79      0.80       179\n",
      "weighted avg       0.81      0.81      0.81       179\n",
      "\n",
      "[[95 15]\n",
      " [19 50]]\n",
      "Random Forest accuracy is: 81.01%\n"
     ]
    }
   ],
   "source": [
    "RFclassifier = RandomForestClassifier(max_leaf_nodes=10)\n",
    "RFclassifier.fit(x_train, y_train)\n",
    "\n",
    "y_pred = RFclassifier.predict(x_test)\n",
    "\n",
    "print(classification_report(y_test, y_pred))\n",
    "print(confusion_matrix(y_test, y_pred))\n",
    "\n",
    "from sklearn.metrics import accuracy_score\n",
    "RFAcc = accuracy_score(y_pred,y_test)\n",
    "print('Random Forest accuracy is: {:.2f}%'.format(RFAcc*100))"
   ]
  },
  {
   "cell_type": "code",
   "execution_count": 40,
   "id": "e6b48efc",
   "metadata": {
    "execution": {
     "iopub.execute_input": "2023-11-02T06:38:59.852254Z",
     "iopub.status.busy": "2023-11-02T06:38:59.843954Z",
     "iopub.status.idle": "2023-11-02T06:41:13.287434Z",
     "shell.execute_reply": "2023-11-02T06:41:13.286745Z"
    },
    "papermill": {
     "duration": 133.544183,
     "end_time": "2023-11-02T06:41:13.287631",
     "exception": false,
     "start_time": "2023-11-02T06:38:59.743448",
     "status": "completed"
    },
    "tags": []
   },
   "outputs": [
    {
     "data": {
      "image/png": "[encoded data removed]",
      "text/plain": [
       "<Figure size 432x288 with 1 Axes>"
      ]
     },
     "metadata": {},
     "output_type": "display_data"
    },
    {
     "name": "stdout",
     "output_type": "stream",
     "text": [
      "RF Acc Max: 83.24%\n"
     ]
    }
   ],
   "source": [
    "scoreListRF = []\n",
    "for i in range(2,55):\n",
    "    RFclassifier = RandomForestClassifier(n_estimators = 1000, random_state = 1, max_leaf_nodes=i)\n",
    "    RFclassifier.fit(x_train, y_train)\n",
    "    scoreListRF.append(RFclassifier.score(x_test, y_test))\n",
    "    \n",
    "plt.plot(range(2,55), scoreListRF)\n",
    "plt.xticks(np.arange(2,55,5))\n",
    "plt.xlabel(\"RF Value\")\n",
    "plt.ylabel(\"Score\")\n",
    "plt.show()\n",
    "RFAccMax = max(scoreListRF)\n",
    "print(\"RF Acc Max: {:.2f}%\".format(RFAccMax*100))"
   ]
  },
  {
   "cell_type": "markdown",
   "id": "02cf28fd",
   "metadata": {
    "papermill": {
     "duration": 0.10006,
     "end_time": "2023-11-02T06:41:13.484865",
     "exception": false,
     "start_time": "2023-11-02T06:41:13.384805",
     "status": "completed"
    },
    "tags": []
   },
   "source": [
    "## 7.6 Gradient Boosting\n",
    "Gradient boosting merupakan algoritma klasifikasi machine learning yang menggunakan ensamble dari decision tree untuk memprediksi nilai. Gradient boosting termasuk supervised learning berbasis decision tree yang dapat digunakan untuk klasifikasi. Gradient boosting dimulai dengan menghasilkan pohon klasifikasi awal dan terus menyesuaikan pohon baru melalui minimalisasi fungsi kerugian.\n",
    "\n",
    "Pada setiap iterasi, Gradient Boosting akan menambahkan weak learner baru dan mengoreksi prediksi sebelumnya dengan memperhitungkan kesalahan pada prediksi tersebut. Secara matematis, Gradient Boosting mengoptimalkan suatu fungsi objektif dengan mengevaluasi gradient pada setiap titik.\n",
    "\n",
    "Dalam setiap iterasi, Gradient Boosting memperbarui residual error dengan mengurangi hasil prediksi dari target, lalu menambahkan weak learner baru yang menyelesaikan masalah residual error yang dihasilkan."
   ]
  },
  {
   "cell_type": "code",
   "execution_count": 41,
   "id": "1948c050",
   "metadata": {
    "execution": {
     "iopub.execute_input": "2023-11-02T06:41:13.692066Z",
     "iopub.status.busy": "2023-11-02T06:41:13.690960Z",
     "iopub.status.idle": "2023-11-02T06:41:13.694579Z",
     "shell.execute_reply": "2023-11-02T06:41:13.693883Z"
    },
    "papermill": {
     "duration": 0.110566,
     "end_time": "2023-11-02T06:41:13.694746",
     "exception": false,
     "start_time": "2023-11-02T06:41:13.584180",
     "status": "completed"
    },
    "tags": []
   },
   "outputs": [],
   "source": [
    "paramsGB={'n_estimators':[100,200,300,400,500],\n",
    "      'max_depth':[1,2,3,4,5],\n",
    "      'max_leaf_nodes':[2,5,10,20,30,40,50]}"
   ]
  },
  {
   "cell_type": "code",
   "execution_count": 42,
   "id": "2df832c3",
   "metadata": {
    "execution": {
     "iopub.execute_input": "2023-11-02T06:41:13.905088Z",
     "iopub.status.busy": "2023-11-02T06:41:13.904280Z",
     "iopub.status.idle": "2023-11-02T06:41:48.818080Z",
     "shell.execute_reply": "2023-11-02T06:41:48.818715Z"
    },
    "papermill": {
     "duration": 35.024314,
     "end_time": "2023-11-02T06:41:48.818935",
     "exception": false,
     "start_time": "2023-11-02T06:41:13.794621",
     "status": "completed"
    },
    "tags": []
   },
   "outputs": [
    {
     "data": {
      "text/plain": [
       "RandomizedSearchCV(cv=10, estimator=GradientBoostingClassifier(),\n",
       "                   param_distributions={'max_depth': [1, 2, 3, 4, 5],\n",
       "                                        'max_leaf_nodes': [2, 5, 10, 20, 30, 40,\n",
       "                                                           50],\n",
       "                                        'n_estimators': [100, 200, 300, 400,\n",
       "                                                         500]})"
      ]
     },
     "execution_count": 42,
     "metadata": {},
     "output_type": "execute_result"
    }
   ],
   "source": [
    "GB = RandomizedSearchCV(GradientBoostingClassifier(), paramsGB, cv=10)\n",
    "GB.fit(x_train,y_train)"
   ]
  },
  {
   "cell_type": "code",
   "execution_count": 43,
   "id": "4381872e",
   "metadata": {
    "execution": {
     "iopub.execute_input": "2023-11-02T06:41:49.102700Z",
     "iopub.status.busy": "2023-11-02T06:41:49.101896Z",
     "iopub.status.idle": "2023-11-02T06:41:49.106039Z",
     "shell.execute_reply": "2023-11-02T06:41:49.106704Z"
    },
    "papermill": {
     "duration": 0.110328,
     "end_time": "2023-11-02T06:41:49.106940",
     "exception": false,
     "start_time": "2023-11-02T06:41:48.996612",
     "status": "completed"
    },
    "tags": []
   },
   "outputs": [
    {
     "name": "stdout",
     "output_type": "stream",
     "text": [
      "GradientBoostingClassifier(max_depth=5, max_leaf_nodes=10)\n",
      "0.8395898641588296\n",
      "{'n_estimators': 100, 'max_leaf_nodes': 10, 'max_depth': 5}\n",
      "6\n"
     ]
    }
   ],
   "source": [
    "print(GB.best_estimator_)\n",
    "print(GB.best_score_)\n",
    "print(GB.best_params_)\n",
    "print(GB.best_index_)"
   ]
  },
  {
   "cell_type": "code",
   "execution_count": 44,
   "id": "53874bd6",
   "metadata": {
    "execution": {
     "iopub.execute_input": "2023-11-02T06:41:49.313447Z",
     "iopub.status.busy": "2023-11-02T06:41:49.312418Z",
     "iopub.status.idle": "2023-11-02T06:41:49.927813Z",
     "shell.execute_reply": "2023-11-02T06:41:49.928402Z"
    },
    "papermill": {
     "duration": 0.71989,
     "end_time": "2023-11-02T06:41:49.928631",
     "exception": false,
     "start_time": "2023-11-02T06:41:49.208741",
     "status": "completed"
    },
    "tags": []
   },
   "outputs": [
    {
     "name": "stdout",
     "output_type": "stream",
     "text": [
      "              precision    recall  f1-score   support\n",
      "\n",
      "           0       0.84      0.91      0.87       110\n",
      "           1       0.83      0.72      0.78        69\n",
      "\n",
      "    accuracy                           0.84       179\n",
      "   macro avg       0.84      0.82      0.82       179\n",
      "weighted avg       0.84      0.84      0.84       179\n",
      "\n",
      "[[100  10]\n",
      " [ 19  50]]\n",
      "Gradient Boosting accuracy is: 83.80%\n"
     ]
    }
   ],
   "source": [
    "GBclassifier = GradientBoostingClassifier(n_estimators=400, max_depth=3, max_leaf_nodes=10)\n",
    "GBclassifier.fit(x_train, y_train)\n",
    "\n",
    "y_pred = GBclassifier.predict(x_test)\n",
    "\n",
    "print(classification_report(y_test, y_pred))\n",
    "print(confusion_matrix(y_test, y_pred))\n",
    "\n",
    "from sklearn.metrics import accuracy_score\n",
    "GBAcc = accuracy_score(y_pred,y_test)\n",
    "print('Gradient Boosting accuracy is: {:.2f}%'.format(GBAcc*100))"
   ]
  },
  {
   "cell_type": "markdown",
   "id": "4e74b8b2",
   "metadata": {
    "papermill": {
     "duration": 0.097646,
     "end_time": "2023-11-02T06:41:50.124891",
     "exception": false,
     "start_time": "2023-11-02T06:41:50.027245",
     "status": "completed"
    },
    "tags": []
   },
   "source": [
    "# 8. Perbandingan Model"
   ]
  },
  {
   "cell_type": "code",
   "execution_count": 45,
   "id": "37631ef6",
   "metadata": {
    "execution": {
     "iopub.execute_input": "2023-11-02T06:41:50.336469Z",
     "iopub.status.busy": "2023-11-02T06:41:50.335710Z",
     "iopub.status.idle": "2023-11-02T06:41:50.342951Z",
     "shell.execute_reply": "2023-11-02T06:41:50.343473Z"
    },
    "id": "K2PSfB_YAyPK",
    "outputId": "ae9813f7-d4f5-40c3-d651-578383ce697b",
    "papermill": {
     "duration": 0.120945,
     "end_time": "2023-11-02T06:41:50.343753",
     "exception": false,
     "start_time": "2023-11-02T06:41:50.222808",
     "status": "completed"
    },
    "tags": []
   },
   "outputs": [
    {
     "data": {
      "text/html": [
       "<div>\n",
       "<style scoped>\n",
       "    .dataframe tbody tr th:only-of-type {\n",
       "        vertical-align: middle;\n",
       "    }\n",
       "\n",
       "    .dataframe tbody tr th {\n",
       "        vertical-align: top;\n",
       "    }\n",
       "\n",
       "    .dataframe thead th {\n",
       "        text-align: right;\n",
       "    }\n",
       "</style>\n",
       "<table border=\"1\" class=\"dataframe\">\n",
       "  <thead>\n",
       "    <tr style=\"text-align: right;\">\n",
       "      <th></th>\n",
       "      <th>Model</th>\n",
       "      <th>Accuracy</th>\n",
       "    </tr>\n",
       "  </thead>\n",
       "  <tbody>\n",
       "    <tr>\n",
       "      <th>6</th>\n",
       "      <td>Decision Tree Max</td>\n",
       "      <td>83.798883</td>\n",
       "    </tr>\n",
       "    <tr>\n",
       "      <th>7</th>\n",
       "      <td>Gradient Boosting</td>\n",
       "      <td>83.798883</td>\n",
       "    </tr>\n",
       "    <tr>\n",
       "      <th>4</th>\n",
       "      <td>Random Forest Max</td>\n",
       "      <td>83.240223</td>\n",
       "    </tr>\n",
       "    <tr>\n",
       "      <th>1</th>\n",
       "      <td>Decision Tree</td>\n",
       "      <td>82.122905</td>\n",
       "    </tr>\n",
       "    <tr>\n",
       "      <th>3</th>\n",
       "      <td>Random Forest Classifier</td>\n",
       "      <td>81.005587</td>\n",
       "    </tr>\n",
       "    <tr>\n",
       "      <th>0</th>\n",
       "      <td>Logistic Regression</td>\n",
       "      <td>79.888268</td>\n",
       "    </tr>\n",
       "    <tr>\n",
       "      <th>5</th>\n",
       "      <td>K Neighbors Max</td>\n",
       "      <td>79.888268</td>\n",
       "    </tr>\n",
       "    <tr>\n",
       "      <th>2</th>\n",
       "      <td>K Neighbors Classifier</td>\n",
       "      <td>73.184358</td>\n",
       "    </tr>\n",
       "  </tbody>\n",
       "</table>\n",
       "</div>"
      ],
      "text/plain": [
       "                      Model   Accuracy\n",
       "6         Decision Tree Max  83.798883\n",
       "7         Gradient Boosting  83.798883\n",
       "4         Random Forest Max  83.240223\n",
       "1             Decision Tree  82.122905\n",
       "3  Random Forest Classifier  81.005587\n",
       "0       Logistic Regression  79.888268\n",
       "5           K Neighbors Max  79.888268\n",
       "2    K Neighbors Classifier  73.184358"
      ]
     },
     "execution_count": 45,
     "metadata": {},
     "output_type": "execute_result"
    }
   ],
   "source": [
    "compare = pd.DataFrame({'Model': ['Logistic Regression', 'Decision Tree', 'K Neighbors Classifier', 'Random Forest Classifier'\n",
    "                                 ,'Random Forest Max', 'K Neighbors Max', 'Decision Tree Max', 'Gradient Boosting'], \n",
    "                        'Accuracy': [LRAcc*100, DTAcc*100, KNAcc*100, RFAcc*100, RFAccMax*100, \n",
    "                                     KNAccMax*100, DTAccMax*100, GBAcc*100]})\n",
    "compare.sort_values(by='Accuracy', ascending=False)"
   ]
  },
  {
   "cell_type": "markdown",
   "id": "dda91de5",
   "metadata": {
    "id": "9u81r7yyAIsk",
    "papermill": {
     "duration": 0.098307,
     "end_time": "2023-11-02T06:41:50.540273",
     "exception": false,
     "start_time": "2023-11-02T06:41:50.441966",
     "status": "completed"
    },
    "tags": []
   },
   "source": [
    "Dari beberapa model algoritma yang diterapkan, diperoleh beberapa model dengan akurasi diatas 80%. Kemudian, dilakukan perbandingan akurasi pada training - testing sebagai berikut.\n",
    "* LR : 79,33\n",
    "* DT : 82,68 - 82,68\n",
    "* GB : 84,635 - 82,682\n",
    "* RF : 83,80 - 81,56\n",
    "* KNN : 80,45 - 73,18\n",
    "\n",
    "Dari hasil training dan testing akurasi di atas, dua model (Decision Tree dan Gradient Boosting) yang diuji memiliki kesesuaian yang baik. Namun model lainnya mengalami overfitting. Hal ini dikarenakan perbedaan akurasi latihan dan tes atau sebaliknya relatif tinggi.\n",
    "\n",
    "Melihat skor F1 masing-masing model, dapat disimpulkan bahwa model yang diuji mampu mengklasifikasikan penumpang yang tidak selamat sangat baik (skor F1 di atas 0,8) namun cukup baik pada penumpang selamat (skor F1 di atas 0,7). Namun perbedaan skor F1 untuk masing-masing model masuk akal karena nilai target sebenarnya dalam dataset pengujian juga berbeda cukup jauh (260 penumpang tidak selamat dan 158 penumpang selamat). \n",
    "\n",
    "Model terbaik (Gradient Boosting) yang dipilih memiliki skor F1 di atas rata-rata, dimana skor F1 untuk penumpang tidak selamat sebesar 0,87, sedangkan skor F1 untuk penumpang selamat sebesar 0,76. Nilai presisi keempat model terbaik juga kurang lebih sama, dimana 83% dari seluruh penumpang yang diprediksi model tersebut selamat dari bencana Titanic. Sebaliknya, untuk nilai recall pada model terbaik, model tersebut memprediksi dengan tepat 70% dari seluruh penyintas."
   ]
  },
  {
   "cell_type": "markdown",
   "id": "6163f79c",
   "metadata": {
    "papermill": {
     "duration": 0.101096,
     "end_time": "2023-11-02T06:41:50.740449",
     "exception": false,
     "start_time": "2023-11-02T06:41:50.639353",
     "status": "completed"
    },
    "tags": []
   },
   "source": [
    "# 9. Output\n",
    "Membuat hasil output dengan algoritma Gradient Boost ke dalam **file berformat csv.**"
   ]
  },
  {
   "cell_type": "markdown",
   "id": "5ff77589",
   "metadata": {
    "papermill": {
     "duration": 0.098176,
     "end_time": "2023-11-02T06:41:50.938217",
     "exception": false,
     "start_time": "2023-11-02T06:41:50.840041",
     "status": "completed"
    },
    "tags": []
   },
   "source": [
    "## 9.1 Making output file"
   ]
  },
  {
   "cell_type": "code",
   "execution_count": 46,
   "id": "5e98ff43",
   "metadata": {
    "execution": {
     "iopub.execute_input": "2023-11-02T06:41:51.141958Z",
     "iopub.status.busy": "2023-11-02T06:41:51.141152Z",
     "iopub.status.idle": "2023-11-02T06:41:51.748737Z",
     "shell.execute_reply": "2023-11-02T06:41:51.748044Z"
    },
    "papermill": {
     "duration": 0.710134,
     "end_time": "2023-11-02T06:41:51.748928",
     "exception": false,
     "start_time": "2023-11-02T06:41:51.038794",
     "status": "completed"
    },
    "tags": []
   },
   "outputs": [],
   "source": [
    "GBclassifier = GradientBoostingClassifier(n_estimators=400, max_depth=3, max_leaf_nodes=10)\n",
    "GBclassifier.fit(x_train, y_train)\n",
    "\n",
    "y_pred = GBclassifier.predict(x_test)\n",
    "\n",
    "prediction = GBclassifier.predict(test_ds1)"
   ]
  },
  {
   "cell_type": "code",
   "execution_count": 47,
   "id": "7c81b55e",
   "metadata": {
    "execution": {
     "iopub.execute_input": "2023-11-02T06:41:51.957024Z",
     "iopub.status.busy": "2023-11-02T06:41:51.956189Z",
     "iopub.status.idle": "2023-11-02T06:41:51.962008Z",
     "shell.execute_reply": "2023-11-02T06:41:51.962527Z"
    },
    "id": "xt9IK2Rx_DEN",
    "papermill": {
     "duration": 0.112621,
     "end_time": "2023-11-02T06:41:51.962767",
     "exception": false,
     "start_time": "2023-11-02T06:41:51.850146",
     "status": "completed"
    },
    "tags": []
   },
   "outputs": [],
   "source": [
    "output = pd.DataFrame({'PassengerId': test_ds['PassengerId'] , 'Survived': prediction})\n",
    "output.to_csv('submission.csv', index=False)"
   ]
  },
  {
   "cell_type": "markdown",
   "id": "3ab368b7",
   "metadata": {
    "papermill": {
     "duration": 0.103686,
     "end_time": "2023-11-02T06:41:52.170111",
     "exception": false,
     "start_time": "2023-11-02T06:41:52.066425",
     "status": "completed"
    },
    "tags": []
   },
   "source": [
    "## 9.2 Output File (CSV)"
   ]
  },
  {
   "cell_type": "code",
   "execution_count": 48,
   "id": "bdb94723",
   "metadata": {
    "execution": {
     "iopub.execute_input": "2023-11-02T06:41:52.390491Z",
     "iopub.status.busy": "2023-11-02T06:41:52.383824Z",
     "iopub.status.idle": "2023-11-02T06:41:52.394231Z",
     "shell.execute_reply": "2023-11-02T06:41:52.394946Z"
    },
    "papermill": {
     "duration": 0.122165,
     "end_time": "2023-11-02T06:41:52.395169",
     "exception": false,
     "start_time": "2023-11-02T06:41:52.273004",
     "status": "completed"
    },
    "tags": []
   },
   "outputs": [
    {
     "data": {
      "text/html": [
       "<div>\n",
       "<style scoped>\n",
       "    .dataframe tbody tr th:only-of-type {\n",
       "        vertical-align: middle;\n",
       "    }\n",
       "\n",
       "    .dataframe tbody tr th {\n",
       "        vertical-align: top;\n",
       "    }\n",
       "\n",
       "    .dataframe thead th {\n",
       "        text-align: right;\n",
       "    }\n",
       "</style>\n",
       "<table border=\"1\" class=\"dataframe\">\n",
       "  <thead>\n",
       "    <tr style=\"text-align: right;\">\n",
       "      <th></th>\n",
       "      <th>PassengerId</th>\n",
       "      <th>Survived</th>\n",
       "    </tr>\n",
       "  </thead>\n",
       "  <tbody>\n",
       "    <tr>\n",
       "      <th>0</th>\n",
       "      <td>892</td>\n",
       "      <td>0</td>\n",
       "    </tr>\n",
       "    <tr>\n",
       "      <th>1</th>\n",
       "      <td>893</td>\n",
       "      <td>0</td>\n",
       "    </tr>\n",
       "    <tr>\n",
       "      <th>2</th>\n",
       "      <td>894</td>\n",
       "      <td>0</td>\n",
       "    </tr>\n",
       "    <tr>\n",
       "      <th>3</th>\n",
       "      <td>895</td>\n",
       "      <td>1</td>\n",
       "    </tr>\n",
       "    <tr>\n",
       "      <th>4</th>\n",
       "      <td>896</td>\n",
       "      <td>1</td>\n",
       "    </tr>\n",
       "  </tbody>\n",
       "</table>\n",
       "</div>"
      ],
      "text/plain": [
       "   PassengerId  Survived\n",
       "0          892         0\n",
       "1          893         0\n",
       "2          894         0\n",
       "3          895         1\n",
       "4          896         1"
      ]
     },
     "execution_count": 48,
     "metadata": {},
     "output_type": "execute_result"
    }
   ],
   "source": [
    "predcsv = pd.read_csv('./submission.csv')\n",
    "predcsv.head()"
   ]
  },
  {
   "cell_type": "markdown",
   "id": "b0d3e8e1",
   "metadata": {
    "papermill": {
     "duration": 0.107858,
     "end_time": "2023-11-02T06:41:52.623189",
     "exception": false,
     "start_time": "2023-11-02T06:41:52.515331",
     "status": "completed"
    },
    "tags": []
   },
   "source": [
    "# 10. Saran\n",
    "Berikut ini saran yang dapat diberikan kepada peneliti selanjutnya:\n",
    "* Feature Engineering: eksplorasi dan transformasi lebih lanjut dari fitur yang ada dan/atau pembuatan fitur baru untuk meningkatkan kinerja model.\n",
    "* Pemilihan algoritma: menguji berbagai algoritma dan metode ansambel untuk menemukan yang paling cocok untuk masalah ini.\n",
    "* Penyetelan hyperparameter: mengoptimalkan hyperparameter dari algoritma yang dipilih untuk mencapai kinerja yang lebih baik.\n",
    "* Memasukkan data tambahan: termasuk data relevan lainnya seperti informasi awak kapal atau biografi penumpang untuk meningkatkan akurasi model dan memberikan gambaran bencana yang lebih lengkap.\n",
    "* Mencoba model prediktif lainnya: bereksperimen dengan model prediktif yang lebih canggih seperti model deep learning atau reinforcement learning."
   ]
  }
 ],
 "metadata": {
  "kernelspec": {
   "display_name": "Python 3",
   "language": "python",
   "name": "python3"
  },
  "language_info": {
   "codemirror_mode": {
    "name": "ipython",
    "version": 3
   },
   "file_extension": ".py",
   "mimetype": "text/x-python",
   "name": "python",
   "nbconvert_exporter": "python",
   "pygments_lexer": "ipython3",
   "version": "3.7.10"
  },
  "papermill": {
   "default_parameters": {},
   "duration": 209.107302,
   "end_time": "2023-11-02T06:41:54.800933",
   "environment_variables": {},
   "exception": null,
   "input_path": "__notebook__.ipynb",
   "output_path": "__notebook__.ipynb",
   "parameters": {},
   "start_time": "2023-11-02T06:38:25.693631",
   "version": "2.3.3"
  }
 },
 "nbformat": 4,
 "nbformat_minor": 5
}
